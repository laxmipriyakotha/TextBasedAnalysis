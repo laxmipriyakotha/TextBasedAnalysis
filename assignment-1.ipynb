{
 "cells": [
  {
   "cell_type": "markdown",
   "id": "a784c925-90ea-4514-97d6-f909e38b2ce5",
   "metadata": {},
   "source": [
    "# STRING OPERATIONS PYTHON"
   ]
  },
  {
   "cell_type": "markdown",
   "id": "ee9a7e0d-a321-463d-86aa-ea5abc9538bf",
   "metadata": {},
   "source": [
    "## JOIN()"
   ]
  },
  {
   "cell_type": "markdown",
   "id": "373c8425-3a05-4997-870e-d1de393efbf3",
   "metadata": {},
   "source": [
    "join() in python is a string operation used to join a sequence of strings together using the seperator"
   ]
  },
  {
   "cell_type": "code",
   "execution_count": 35,
   "id": "fcd7edf1-6296-4494-a0a0-75605554ef56",
   "metadata": {},
   "outputs": [
    {
     "name": "stdout",
     "output_type": "stream",
     "text": [
      "Text-Based-Analysis\n"
     ]
    }
   ],
   "source": [
    "string=['Text','Based','Analysis']\n",
    "separator=\"-\"\n",
    "combined_string=separator.join(string)\n",
    "print(combined_string)"
   ]
  },
  {
   "cell_type": "markdown",
   "id": "d6127ca7-0ee2-47ca-8d4b-852a35f5501e",
   "metadata": {},
   "source": [
    "## RPARTITION()"
   ]
  },
  {
   "cell_type": "markdown",
   "id": "55bd8094-8b1a-4237-84b9-44ed9b13ee42",
   "metadata": {},
   "source": [
    "This function divides the string into 3 parts, string before separator, separator and string after separator"
   ]
  },
  {
   "cell_type": "code",
   "execution_count": 36,
   "id": "bd624507-169e-48fe-87c2-c42e15310e8a",
   "metadata": {},
   "outputs": [
    {
     "name": "stdout",
     "output_type": "stream",
     "text": [
      "('Textblob is python ', 'package', ' used for performing various language processing tasks')\n"
     ]
    }
   ],
   "source": [
    "string=\"Textblob is python package used for performing various language processing tasks\"\n",
    "print(string.rpartition(\"package\"))"
   ]
  },
  {
   "cell_type": "markdown",
   "id": "0bd7d6b1-c540-4733-96d9-38e6c39fd679",
   "metadata": {},
   "source": [
    "## SWAPCASE()"
   ]
  },
  {
   "cell_type": "markdown",
   "id": "5445e04b-41eb-43f9-8bcd-7fab77677764",
   "metadata": {},
   "source": [
    "This function returns the uppercase to lower case and viseversa of given string"
   ]
  },
  {
   "cell_type": "code",
   "execution_count": 37,
   "id": "fc9e8918-4f01-467a-829f-4eefbe09adfc",
   "metadata": {},
   "outputs": [
    {
     "name": "stdout",
     "output_type": "stream",
     "text": [
      "tEXTBLOB iS pYTHON pACKAGE uSED fOR pERFORMING vARIOUS lANGUAGE pROCESSING tASKS\n"
     ]
    }
   ],
   "source": [
    "string=\"Textblob Is Python Package Used For Performing Various Language Processing Tasks\"\n",
    "print(string.swapcase())"
   ]
  },
  {
   "cell_type": "markdown",
   "id": "0e904d82-0409-450e-b4ca-d143245f8d51",
   "metadata": {},
   "source": [
    "## RSPLIT()"
   ]
  },
  {
   "cell_type": "markdown",
   "id": "56d85d12-5f17-43da-96c3-f54da630b347",
   "metadata": {},
   "source": [
    "This function splits the given string based on the seperator given"
   ]
  },
  {
   "cell_type": "code",
   "execution_count": 38,
   "id": "eef6384c-a26a-4ae3-9256-4f48224976c4",
   "metadata": {},
   "outputs": [
    {
     "name": "stdout",
     "output_type": "stream",
     "text": [
      "['Textblob', 'Is', 'Python', 'Package', 'Used', 'For', 'Performing', 'Various', 'Language', 'Processing', 'Tasks']\n"
     ]
    }
   ],
   "source": [
    "string=\"Textblob Is Python Package Used For Performing Various Language Processing Tasks\"\n",
    "print(string.rsplit())"
   ]
  },
  {
   "cell_type": "markdown",
   "id": "018616e7-954b-4b12-b12d-ee8b4adff4d2",
   "metadata": {},
   "source": [
    "## RFIND()"
   ]
  },
  {
   "cell_type": "markdown",
   "id": "1c92a73a-6cfd-41ba-888b-81abb911af3f",
   "metadata": {},
   "source": [
    "This function returns the index of mentined  word from right most indexed part of string,returns \"-1\" if not found"
   ]
  },
  {
   "cell_type": "code",
   "execution_count": 39,
   "id": "00b10287-1a2b-41d2-b727-c48d08bd908d",
   "metadata": {},
   "outputs": [
    {
     "name": "stdout",
     "output_type": "stream",
     "text": [
      "19\n"
     ]
    }
   ],
   "source": [
    "string=\"Textblob Is Python Package Used For Performing Various Language Processing Tasks\"\n",
    "print(string.rfind(\"Package\"))"
   ]
  },
  {
   "cell_type": "markdown",
   "id": "d1e8db4f-e2b7-4552-a232-9d724c0b2622",
   "metadata": {},
   "source": [
    "## REPLACE()"
   ]
  },
  {
   "cell_type": "markdown",
   "id": "cc622c37-4f4e-47ca-b969-a887cd4d8874",
   "metadata": {},
   "source": [
    "This replace function is used to replace a given part of the string by other input."
   ]
  },
  {
   "cell_type": "code",
   "execution_count": 40,
   "id": "f824e03c-5af8-425d-bf55-cfa375c094e9",
   "metadata": {},
   "outputs": [
    {
     "name": "stdout",
     "output_type": "stream",
     "text": [
      "Matplot In Python Package\n"
     ]
    }
   ],
   "source": [
    "string=\"Textblob In Python Package\"\n",
    "print(string.replace(\"Textblob\",\"Matplot\"))"
   ]
  },
  {
   "cell_type": "markdown",
   "id": "abf365b8-e720-4416-a086-fa0ce7989b77",
   "metadata": {},
   "source": [
    "## FORMAT()"
   ]
  },
  {
   "cell_type": "markdown",
   "id": "b2c522b6-1dce-4efd-93da-171357ffaa1d",
   "metadata": {},
   "source": [
    "This function formats the numeric data into a string"
   ]
  },
  {
   "cell_type": "code",
   "execution_count": 41,
   "id": "900e011f-f7ff-4b49-a510-f93431cca024",
   "metadata": {},
   "outputs": [
    {
     "name": "stdout",
     "output_type": "stream",
     "text": [
      "123.46\n"
     ]
    }
   ],
   "source": [
    "value = 123.456\n",
    "formatted_string = format(value, \".2f\")\n",
    "print(formatted_string)\n"
   ]
  },
  {
   "cell_type": "markdown",
   "id": "10f90d13-3c29-4c3c-bc54-bb971510ae5c",
   "metadata": {},
   "source": [
    "## RSTRIP()"
   ]
  },
  {
   "cell_type": "markdown",
   "id": "8a8cd619-bc46-4873-8280-cfe6e42ac316",
   "metadata": {},
   "source": [
    "This function strips away the trailing characters or strips the strings mentioned from user"
   ]
  },
  {
   "cell_type": "code",
   "execution_count": 42,
   "id": "26e67d9e-c006-4964-b8f6-69a02dd43486",
   "metadata": {},
   "outputs": [
    {
     "name": "stdout",
     "output_type": "stream",
     "text": [
      "Pytho\n"
     ]
    }
   ],
   "source": [
    "string=\"Pythonnnnnnnnn\"\n",
    "print(string.rstrip('n'))"
   ]
  },
  {
   "cell_type": "markdown",
   "id": "18e2e184-617a-4c15-a624-8680b8933a4d",
   "metadata": {},
   "source": [
    "## ISSPACE()"
   ]
  },
  {
   "cell_type": "markdown",
   "id": "c9c90354-f889-4131-a11e-175a43f9cbef",
   "metadata": {},
   "source": [
    "This function is used to check if the argument contains all whitespace characters"
   ]
  },
  {
   "cell_type": "code",
   "execution_count": 43,
   "id": "7edaf847-5907-4437-b0f9-830709eabb3f",
   "metadata": {},
   "outputs": [
    {
     "name": "stdout",
     "output_type": "stream",
     "text": [
      "False\n",
      "True\n",
      "False\n"
     ]
    }
   ],
   "source": [
    "# checking for whitespace characters\n",
    "string = 'PYTHONPROGRAM'\n",
    "\n",
    "print(string.isspace())\n",
    "\n",
    "# checking if \\n is a whitespace character\n",
    "string = '\\n \\n \\n'\n",
    "\n",
    "print(string.isspace())\n",
    "\n",
    "string = 'PYTHON\\nfor\\nPYTHON'\n",
    "print( string.isspace())\n"
   ]
  },
  {
   "cell_type": "markdown",
   "id": "edec369e-f549-4285-a9e3-a78ef30a0493",
   "metadata": {},
   "source": [
    "## ZFILL()"
   ]
  },
  {
   "cell_type": "markdown",
   "id": "3cacd622-cd50-4530-bb42-ab8dc8ae169c",
   "metadata": {},
   "source": [
    "zfill() method returns a copy of the string with ‘0’ characters padded to the left side of the given string"
   ]
  },
  {
   "cell_type": "code",
   "execution_count": 44,
   "id": "ca9013c9-1432-48be-920b-348a216cdb8f",
   "metadata": {},
   "outputs": [
    {
     "name": "stdout",
     "output_type": "stream",
     "text": [
      "000000Python String Zfill\n",
      "0Python String Zfill\n",
      "Python String Zfill\n"
     ]
    }
   ],
   "source": [
    "text = \"Python String Zfill\"\n",
    "  \n",
    "print(text.zfill(25)) \n",
    "  \n",
    "print(text.zfill(20)) \n",
    "  \n",
    "# Given length is less than \n",
    "# the length od original string \n",
    "print(text.zfill(10))"
   ]
  },
  {
   "cell_type": "markdown",
   "id": "60bf199d-70df-4c01-9ea3-47035cc061ff",
   "metadata": {},
   "source": [
    "## LSRTIP()"
   ]
  },
  {
   "cell_type": "markdown",
   "id": "1c5659cb-8849-497d-86f4-53ba5b2309c0",
   "metadata": {},
   "source": [
    " lstrip() method returns a copy of the string with leading characters removed "
   ]
  },
  {
   "cell_type": "code",
   "execution_count": 45,
   "id": "fc0e21d4-bbdc-4c32-bcd9-dcac361f25a3",
   "metadata": {},
   "outputs": [
    {
     "name": "stdout",
     "output_type": "stream",
     "text": [
      "leading characters\n"
     ]
    }
   ],
   "source": [
    "string = \"   leading characters\" \n",
    "# Removes spaces from left. \n",
    "print(string.lstrip())"
   ]
  },
  {
   "cell_type": "markdown",
   "id": "33e0ff47-c04b-454c-a0f9-d94ab81c2184",
   "metadata": {},
   "source": [
    "## MAX() MIN()"
   ]
  },
  {
   "cell_type": "markdown",
   "id": "4526b401-f81a-46c3-9a11-94893fe1a6ad",
   "metadata": {},
   "source": [
    "This function helps infinding the maximum and minimum characters (based on their ASCII values) from a string."
   ]
  },
  {
   "cell_type": "code",
   "execution_count": 46,
   "id": "13c74fd3-f82d-4d16-aa75-0ee05ac6bd3f",
   "metadata": {},
   "outputs": [
    {
     "name": "stdout",
     "output_type": "stream",
     "text": [
      "Maximum character: y\n",
      "Minimum character: h\n"
     ]
    }
   ],
   "source": [
    "string = \"python\"\n",
    "max_char = max(string)\n",
    "min_char = min(string)\n",
    "print(\"Maximum character:\", max_char) \n",
    "print(\"Minimum character:\", min_char) "
   ]
  },
  {
   "cell_type": "markdown",
   "id": "976a113c-4f4d-4dc4-8c4d-a5248ab99982",
   "metadata": {},
   "source": [
    "## CENTER()"
   ]
  },
  {
   "cell_type": "markdown",
   "id": "ca7397ce-1083-47fd-8621-ec79b0ca4148",
   "metadata": {},
   "source": [
    "The CENTER() centers the text within a field of width mentioned by user, padding spaces equally on both sides if needed."
   ]
  },
  {
   "cell_type": "code",
   "execution_count": 47,
   "id": "29b18f5c-0715-4837-b4c9-74a71553906e",
   "metadata": {},
   "outputs": [
    {
     "name": "stdout",
     "output_type": "stream",
     "text": [
      "Centered with custom padding: --Python--\n"
     ]
    }
   ],
   "source": [
    "\n",
    "text = \"Python\"\n",
    "width = 10\n",
    "custom_padding = \"-\"\n",
    "centered_custom = text.center(width, custom_padding)\n",
    "print(\"Centered with custom padding:\", centered_custom) \n"
   ]
  },
  {
   "cell_type": "markdown",
   "id": "17461b21-d082-4da2-9228-660f6de9e3eb",
   "metadata": {},
   "source": [
    "## RIGHT()"
   ]
  },
  {
   "cell_type": "markdown",
   "id": "3454629d-ffcb-41de-925d-7d9aa20e4652",
   "metadata": {},
   "source": [
    "The rjust() method right-aligns the text within a field of width mentioned by user, padding spaces on the left to fill the remaining space.\n"
   ]
  },
  {
   "cell_type": "code",
   "execution_count": 48,
   "id": "f01db50e-79b9-44e3-99d9-0b378764667b",
   "metadata": {},
   "outputs": [
    {
     "name": "stdout",
     "output_type": "stream",
     "text": [
      "Right-aligned:     Python\n"
     ]
    }
   ],
   "source": [
    "right_aligned = text.rjust(width)\n",
    "print(\"Right-aligned:\", right_aligned) "
   ]
  },
  {
   "cell_type": "markdown",
   "id": "ad10b7ff-acef-4554-b9d5-9204e1985ef4",
   "metadata": {},
   "source": [
    "## LEFT()"
   ]
  },
  {
   "cell_type": "markdown",
   "id": "19a4f077-ce4c-4ef3-b8e4-2682dbfa54ef",
   "metadata": {},
   "source": [
    "The ljust() method left-aligns the text within a field of width mentioned by user, padding spaces on the left to fill the remaining space.\n"
   ]
  },
  {
   "cell_type": "code",
   "execution_count": 49,
   "id": "f1cd9aac-0aaf-4efe-ba8b-a23db01696dd",
   "metadata": {},
   "outputs": [
    {
     "name": "stdout",
     "output_type": "stream",
     "text": [
      "Left-aligned: Python    \n"
     ]
    }
   ],
   "source": [
    "left_aligned = text.ljust(width)\n",
    "print(\"Left-aligned:\", left_aligned)"
   ]
  },
  {
   "cell_type": "markdown",
   "id": "bc178ab2-be69-4b01-9039-22f215dc6c89",
   "metadata": {},
   "source": [
    "## LEMMATIZATION"
   ]
  },
  {
   "cell_type": "markdown",
   "id": "7e04cd0d-e145-4397-b8c7-805bc75e4a7b",
   "metadata": {},
   "source": [
    "Lemmatization is particularly useful for text analysis tasks where you want to group together different forms of the same word to reduce\n",
    "complexity and improve accuracy. It is commonly used in tasks such as document classification, information retrieval, and sentiment analysis"
   ]
  },
  {
   "cell_type": "code",
   "execution_count": 50,
   "id": "a02b4c38-42dd-4ccb-899b-b9218990bb56",
   "metadata": {},
   "outputs": [
    {
     "name": "stdout",
     "output_type": "stream",
     "text": [
      "Original sentence: The quick brown foxes are running over the lazy dogs\n",
      "Lemmatized sentence: The quick brown fox are running over the lazy dog\n"
     ]
    },
    {
     "name": "stderr",
     "output_type": "stream",
     "text": [
      "[nltk_data] Downloading package punkt to\n",
      "[nltk_data]     C:\\Users\\laxmi\\AppData\\Roaming\\nltk_data...\n",
      "[nltk_data]   Package punkt is already up-to-date!\n",
      "[nltk_data] Downloading package wordnet to\n",
      "[nltk_data]     C:\\Users\\laxmi\\AppData\\Roaming\\nltk_data...\n",
      "[nltk_data]   Package wordnet is already up-to-date!\n"
     ]
    }
   ],
   "source": [
    "import nltk\n",
    "from nltk.stem import WordNetLemmatizer\n",
    "from nltk.tokenize import word_tokenize\n",
    "nltk.download('punkt')\n",
    "nltk.download('wordnet')\n",
    "lemmatizer = WordNetLemmatizer()\n",
    "sentence = \"The quick brown foxes are running over the lazy dogs\"\n",
    "words = word_tokenize(sentence)\n",
    "lemmatized_words = [lemmatizer.lemmatize(word) for word in words]\n",
    "print(\"Original sentence:\", sentence)\n",
    "print(\"Lemmatized sentence:\", ' '.join(lemmatized_words))\n"
   ]
  }
 ],
 "metadata": {
  "kernelspec": {
   "display_name": "Python 3 (ipykernel)",
   "language": "python",
   "name": "python3"
  },
  "language_info": {
   "codemirror_mode": {
    "name": "ipython",
    "version": 3
   },
   "file_extension": ".py",
   "mimetype": "text/x-python",
   "name": "python",
   "nbconvert_exporter": "python",
   "pygments_lexer": "ipython3",
   "version": "3.12.1"
  }
 },
 "nbformat": 4,
 "nbformat_minor": 5
}
