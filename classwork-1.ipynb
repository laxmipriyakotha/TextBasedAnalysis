{
 "cells": [
  {
   "cell_type": "code",
   "execution_count": 3,
   "id": "413da0b6-ad31-4d1b-9ced-d1281a763545",
   "metadata": {},
   "outputs": [
    {
     "name": "stdout",
     "output_type": "stream",
     "text": [
      "Hello\n"
     ]
    }
   ],
   "source": [
    "a= \"Hello\"\n",
    "print(a)"
   ]
  },
  {
   "cell_type": "markdown",
   "id": "b33d376a-f7f9-4845-b352-f5a4fe67c3e0",
   "metadata": {},
   "source": [
    "String Operations"
   ]
  },
  {
   "cell_type": "code",
   "execution_count": 5,
   "id": "da0399dd-9bca-4727-ab36-24e062e45e24",
   "metadata": {},
   "outputs": [
    {
     "name": "stdout",
     "output_type": "stream",
     "text": [
      "12\n"
     ]
    }
   ],
   "source": [
    "a=\"Hello World!\"\n",
    "print(len(a))\n"
   ]
  },
  {
   "cell_type": "code",
   "execution_count": 6,
   "id": "a105bc8a-b934-4b20-a37d-d865e3583b80",
   "metadata": {},
   "outputs": [
    {
     "name": "stdout",
     "output_type": "stream",
     "text": [
      "HELLO WORLD!\n"
     ]
    }
   ],
   "source": [
    "print(a.upper())"
   ]
  },
  {
   "cell_type": "code",
   "execution_count": 7,
   "id": "9f827b27-3bbd-4767-b4c8-8b7fb1eade4c",
   "metadata": {},
   "outputs": [
    {
     "name": "stdout",
     "output_type": "stream",
     "text": [
      "hello world!\n"
     ]
    }
   ],
   "source": [
    "print(a.lower())"
   ]
  },
  {
   "cell_type": "code",
   "execution_count": 8,
   "id": "006f2e22-4139-4b11-8148-52181ee6b996",
   "metadata": {},
   "outputs": [
    {
     "name": "stdout",
     "output_type": "stream",
     "text": [
      "Jello World!\n"
     ]
    }
   ],
   "source": [
    "print(a.replace(\"H\",\"J\"))"
   ]
  },
  {
   "cell_type": "markdown",
   "id": "dde51776-de4e-408e-8ad6-289d41372eb9",
   "metadata": {},
   "source": [
    "String Concatenation"
   ]
  },
  {
   "cell_type": "code",
   "execution_count": 11,
   "id": "5417d345-7b0a-40a4-9cbb-4336474591b3",
   "metadata": {},
   "outputs": [
    {
     "name": "stdout",
     "output_type": "stream",
     "text": [
      "HelloWorld\n"
     ]
    }
   ],
   "source": [
    "a =\"Hello\"\n",
    "b=\"World\"\n",
    "c=a+\"\"+b\n",
    "print(c)"
   ]
  },
  {
   "cell_type": "markdown",
   "id": "948419ea-1ffd-46b3-93b6-acce03925635",
   "metadata": {},
   "source": [
    "String Slicing\n"
   ]
  },
  {
   "cell_type": "code",
   "execution_count": 10,
   "id": "cb074231-41d3-4165-963c-232137f02af7",
   "metadata": {},
   "outputs": [
    {
     "name": "stdout",
     "output_type": "stream",
     "text": [
      "Rand\n"
     ]
    }
   ],
   "source": [
    "String='Randompython'\n",
    "print(String[:4])"
   ]
  },
  {
   "cell_type": "code",
   "execution_count": 11,
   "id": "0c1ebca3-3309-489d-ad85-4f37de3e6678",
   "metadata": {},
   "outputs": [
    {
     "name": "stdout",
     "output_type": "stream",
     "text": [
      "ad\n"
     ]
    }
   ],
   "source": [
    "print(String[1:5:2])"
   ]
  },
  {
   "cell_type": "code",
   "execution_count": 12,
   "id": "4a4422d1-463d-4d8f-9b75-bf56c0f75b1f",
   "metadata": {},
   "outputs": [
    {
     "name": "stdout",
     "output_type": "stream",
     "text": [
      "nh\n"
     ]
    }
   ],
   "source": [
    "print(String[-1:-5:-2])"
   ]
  },
  {
   "cell_type": "code",
   "execution_count": 13,
   "id": "b19e4edb-4cd9-4a3e-8f20-7cdaae8ca4cd",
   "metadata": {},
   "outputs": [
    {
     "name": "stdout",
     "output_type": "stream",
     "text": [
      "nohtypmodnaR\n"
     ]
    }
   ],
   "source": [
    "print(String[::-1])"
   ]
  },
  {
   "cell_type": "raw",
   "id": "0b515633-4a46-484c-b234-47959e000fb4",
   "metadata": {},
   "source": [
    "String Methods"
   ]
  },
  {
   "cell_type": "code",
   "execution_count": 16,
   "id": "cf02e84c-cbd6-4e08-8fb1-1efa05227c4d",
   "metadata": {},
   "outputs": [
    {
     "name": "stdout",
     "output_type": "stream",
     "text": [
      "\n",
      "Converted String:\n",
      "HELLO WORLD\n"
     ]
    }
   ],
   "source": [
    "Value=\"Hello World\"\n",
    "print(\"\\nConverted String:\") \n",
    "print(Value.upper()) "
   ]
  },
  {
   "cell_type": "code",
   "execution_count": 19,
   "id": "d28ec502-a0ad-4182-8dc7-34648cb3c8fa",
   "metadata": {},
   "outputs": [
    {
     "name": "stdout",
     "output_type": "stream",
     "text": [
      "\n",
      "Converted String:\n",
      "Hello World\n"
     ]
    }
   ],
   "source": [
    "print(\"\\nConverted String:\") \n",
    "print(Value.title()) "
   ]
  },
  {
   "cell_type": "code",
   "execution_count": 20,
   "id": "3f571de2-d835-46c7-9672-c107f3c5f4ef",
   "metadata": {},
   "outputs": [
    {
     "name": "stdout",
     "output_type": "stream",
     "text": [
      "\n",
      "Converted String:\n",
      "Hello world\n"
     ]
    }
   ],
   "source": [
    "print(\"\\nConverted String:\") \n",
    "print(Value.capitalize()) "
   ]
  },
  {
   "cell_type": "code",
   "execution_count": 21,
   "id": "5cac79eb-5847-4886-a0ff-a037e47a3e67",
   "metadata": {},
   "outputs": [
    {
     "name": "stdout",
     "output_type": "stream",
     "text": [
      "\n",
      "Converted String:\n",
      "Hello world\n"
     ]
    }
   ],
   "source": [
    "print(\"\\nConverted String:\") \n",
    "print(Value.capitalize()) "
   ]
  },
  {
   "cell_type": "markdown",
   "id": "4023b9d8-3af6-4521-8130-7648ae4a098c",
   "metadata": {},
   "source": [
    " Repetition Operator"
   ]
  },
  {
   "cell_type": "code",
   "execution_count": 23,
   "id": "858c0fbe-60af-4d47-8bf9-a4219420c98a",
   "metadata": {},
   "outputs": [
    {
     "name": "stdout",
     "output_type": "stream",
     "text": [
      "[0, 1, 2, 0, 1, 2, 0, 1, 2]\n"
     ]
    }
   ],
   "source": [
    "numbers = [0, 1, 2] * 3\n",
    "print (numbers)"
   ]
  },
  {
   "cell_type": "code",
   "execution_count": 24,
   "id": "09704967-ee84-4cfd-a5b1-c6258b443172",
   "metadata": {},
   "outputs": [
    {
     "name": "stdout",
     "output_type": "stream",
     "text": [
      "prprpr\n"
     ]
    }
   ],
   "source": [
    "str = 'Python program'\n",
    "print(str[7:9]*3) "
   ]
  },
  {
   "cell_type": "code",
   "execution_count": 25,
   "id": "a74aada0-eb2d-48cf-8e9d-aa3dac86a7c3",
   "metadata": {},
   "outputs": [
    {
     "name": "stdout",
     "output_type": "stream",
     "text": [
      "['welcome', 'to', 'the', 'jungle']\n"
     ]
    }
   ],
   "source": [
    "txt = \"welcome to the jungle\"\n",
    "\n",
    "x = txt.split()\n",
    "\n",
    "print(x)"
   ]
  },
  {
   "cell_type": "code",
   "execution_count": 26,
   "id": "1be0c1db-7553-4712-9157-6ffb73473460",
   "metadata": {},
   "outputs": [
    {
     "name": "stdout",
     "output_type": "stream",
     "text": [
      "['apple', 'banana', 'cherry', 'orange']\n"
     ]
    }
   ],
   "source": [
    "txt = \"apple#banana#cherry#orange\"\n",
    "\n",
    "x = txt.split(\"#\")\n",
    "\n",
    "print(x)"
   ]
  },
  {
   "cell_type": "code",
   "execution_count": null,
   "id": "f3bec2ba-9f91-4384-8a49-0d21f1d64a34",
   "metadata": {},
   "outputs": [],
   "source": []
  }
 ],
 "metadata": {
  "kernelspec": {
   "display_name": "Python 3 (ipykernel)",
   "language": "python",
   "name": "python3"
  },
  "language_info": {
   "codemirror_mode": {
    "name": "ipython",
    "version": 3
   },
   "file_extension": ".py",
   "mimetype": "text/x-python",
   "name": "python",
   "nbconvert_exporter": "python",
   "pygments_lexer": "ipython3",
   "version": "3.12.1"
  }
 },
 "nbformat": 4,
 "nbformat_minor": 5
}
