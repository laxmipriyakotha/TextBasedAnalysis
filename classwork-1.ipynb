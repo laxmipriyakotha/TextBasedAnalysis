{
 "cells": [
  {
   "cell_type": "markdown",
   "id": "20c96699-a872-46cc-a891-edb04d740357",
   "metadata": {},
   "source": [
    "## classwork1-Basic string operations"
   ]
  },
  {
   "cell_type": "code",
   "execution_count": 9,
   "id": "413da0b6-ad31-4d1b-9ced-d1281a763545",
   "metadata": {},
   "outputs": [
    {
     "name": "stdout",
     "output_type": "stream",
     "text": [
      "Hello\n"
     ]
    }
   ],
   "source": [
    "a= \"Hello\"\n",
    "print(a)"
   ]
  },
  {
   "cell_type": "markdown",
   "id": "b33d376a-f7f9-4845-b352-f5a4fe67c3e0",
   "metadata": {},
   "source": [
    "## Length Function\n",
    "The function len() is one of Python's built-in functions. It returns the length of an object. "
   ]
  },
  {
   "cell_type": "code",
   "execution_count": 10,
   "id": "da0399dd-9bca-4727-ab36-24e062e45e24",
   "metadata": {},
   "outputs": [
    {
     "name": "stdout",
     "output_type": "stream",
     "text": [
      "12\n"
     ]
    }
   ],
   "source": [
    "a=\"Hello World!\"\n",
    "print(len(a)) # returns length of Hello world\n"
   ]
  },
  {
   "cell_type": "markdown",
   "id": "ff4a196b-8703-445d-8512-5145568f6e4d",
   "metadata": {},
   "source": [
    "## Upper Function()\n",
    "The upper() method returns a string where all characters are in upper case"
   ]
  },
  {
   "cell_type": "code",
   "execution_count": 11,
   "id": "a105bc8a-b934-4b20-a37d-d865e3583b80",
   "metadata": {},
   "outputs": [
    {
     "name": "stdout",
     "output_type": "stream",
     "text": [
      "HELLO WORLD!\n"
     ]
    }
   ],
   "source": [
    "print(a.upper())"
   ]
  },
  {
   "cell_type": "markdown",
   "id": "33359f2a-df96-40d3-b9a8-65540ff721bb",
   "metadata": {},
   "source": [
    "## Lower Function()\n",
    "The lower() method returns a string where all characters are in lower case"
   ]
  },
  {
   "cell_type": "code",
   "execution_count": 12,
   "id": "9f827b27-3bbd-4767-b4c8-8b7fb1eade4c",
   "metadata": {},
   "outputs": [
    {
     "name": "stdout",
     "output_type": "stream",
     "text": [
      "hello world!\n"
     ]
    }
   ],
   "source": [
    "print(a.lower())"
   ]
  },
  {
   "cell_type": "markdown",
   "id": "f364e671-a898-466d-9be0-fded7ebcd36b",
   "metadata": {},
   "source": [
    "## Replace Method\n",
    "The replace() method replaces a specified phrase with another specified phrase."
   ]
  },
  {
   "cell_type": "code",
   "execution_count": 13,
   "id": "006f2e22-4139-4b11-8148-52181ee6b996",
   "metadata": {},
   "outputs": [
    {
     "name": "stdout",
     "output_type": "stream",
     "text": [
      "Jello World!\n"
     ]
    }
   ],
   "source": [
    "print(a.replace(\"H\",\"J\"))"
   ]
  },
  {
   "cell_type": "markdown",
   "id": "dde51776-de4e-408e-8ad6-289d41372eb9",
   "metadata": {},
   "source": [
    "## String Concatenationn\r\n",
    "String concatenati t involses joining two or more strings to create a single new string.\n"
   ]
  },
  {
   "cell_type": "code",
   "execution_count": 14,
   "id": "5417d345-7b0a-40a4-9cbb-4336474591b3",
   "metadata": {},
   "outputs": [
    {
     "name": "stdout",
     "output_type": "stream",
     "text": [
      "HelloWorld\n"
     ]
    }
   ],
   "source": [
    "a =\"Hello\"\n",
    "b=\"World\"\n",
    "c=a+\"\"+b\n",
    "print(c)"
   ]
  },
  {
   "cell_type": "markdown",
   "id": "948419ea-1ffd-46b3-93b6-acce03925635",
   "metadata": {},
   "source": [
    "## String Slicing\n",
    "e Python treats strings as a character array, string slicing is a technique in Python that allows extracting substrings\n"
   ]
  },
  {
   "cell_type": "code",
   "execution_count": 15,
   "id": "cb074231-41d3-4165-963c-232137f02af7",
   "metadata": {},
   "outputs": [
    {
     "name": "stdout",
     "output_type": "stream",
     "text": [
      "Rand\n"
     ]
    }
   ],
   "source": [
    "String='Randompython' # returns first 4 characters\n",
    "print(String[:4])"
   ]
  },
  {
   "cell_type": "code",
   "execution_count": 16,
   "id": "0c1ebca3-3309-489d-ad85-4f37de3e6678",
   "metadata": {},
   "outputs": [
    {
     "name": "stdout",
     "output_type": "stream",
     "text": [
      "ad\n"
     ]
    }
   ],
   "source": [
    "print(String[1:5:2]) # Starting from index 1, the slicing takes every 2nd character up to (but not including) index 5."
   ]
  },
  {
   "cell_type": "code",
   "execution_count": 17,
   "id": "4a4422d1-463d-4d8f-9b75-bf56c0f75b1f",
   "metadata": {},
   "outputs": [
    {
     "name": "stdout",
     "output_type": "stream",
     "text": [
      "nh\n"
     ]
    }
   ],
   "source": [
    "print(String[-1:-5:-2]) # -1 refers to the last character in the string, which is \"n\".\n",
    " #-5 refers to the fifth-to-last character in the string, which is \"h\".\n",
    "# -2 specifies a step size of 2, indicating that the slicing should go backward by 2 positions."
   ]
  },
  {
   "cell_type": "code",
   "execution_count": 18,
   "id": "b19e4edb-4cd9-4a3e-8f20-7cdaae8ca4cd",
   "metadata": {},
   "outputs": [
    {
     "name": "stdout",
     "output_type": "stream",
     "text": [
      "nohtypmodnaR\n"
     ]
    }
   ],
   "source": [
    "print(String[::-1]) # This code prints the original string \"randompython\" in reverse order"
   ]
  },
  {
   "cell_type": "markdown",
   "id": "7dddbe63-cb33-4468-8d2e-012a89aaf06f",
   "metadata": {},
   "source": [
    "## String Methods"
   ]
  },
  {
   "cell_type": "code",
   "execution_count": 19,
   "id": "cf02e84c-cbd6-4e08-8fb1-1efa05227c4d",
   "metadata": {
    "scrolled": true
   },
   "outputs": [
    {
     "name": "stdout",
     "output_type": "stream",
     "text": [
      "\n",
      "Converted String:\n",
      "HELLO WORLD\n"
     ]
    }
   ],
   "source": [
    "Value=\"Hello World\"\n",
    "print(\"\\nConverted String:\") \n",
    "print(Value.upper()) # returns all the elements in the string in uppercase"
   ]
  },
  {
   "cell_type": "code",
   "execution_count": 20,
   "id": "d28ec502-a0ad-4182-8dc7-34648cb3c8fa",
   "metadata": {
    "scrolled": true
   },
   "outputs": [
    {
     "name": "stdout",
     "output_type": "stream",
     "text": [
      "\n",
      "Converted String:\n",
      "Hello World\n"
     ]
    }
   ],
   "source": [
    "print(\"\\nConverted String:\") \n",
    "print(Value.title()) #It prints the original string with each word's first character in uppercase and the rest in lowercase."
   ]
  },
  {
   "cell_type": "code",
   "execution_count": 21,
   "id": "3f571de2-d835-46c7-9672-c107f3c5f4ef",
   "metadata": {},
   "outputs": [
    {
     "name": "stdout",
     "output_type": "stream",
     "text": [
      "\n",
      "Converted String:\n",
      "Hello world\n"
     ]
    }
   ],
   "source": [
    "print(\"\\nConverted String:\") \n",
    "print(Value.capitalize()) #It prints the original string with the first character in uppercase and the rest in lowercase."
   ]
  },
  {
   "cell_type": "markdown",
   "id": "4023b9d8-3af6-4521-8130-7648ae4a098c",
   "metadata": {},
   "source": [
    " ## Repetition Operator\n",
    " The repetition operator makes multiple copies of a list and joins them all together."
   ]
  },
  {
   "cell_type": "code",
   "execution_count": 22,
   "id": "858c0fbe-60af-4d47-8bf9-a4219420c98a",
   "metadata": {},
   "outputs": [
    {
     "name": "stdout",
     "output_type": "stream",
     "text": [
      "[0, 1, 2, 0, 1, 2, 0, 1, 2]\n"
     ]
    }
   ],
   "source": [
    "numbers = [0, 1, 2] * 3\n",
    "print (numbers)"
   ]
  },
  {
   "cell_type": "code",
   "execution_count": 23,
   "id": "09704967-ee84-4cfd-a5b1-c6258b443172",
   "metadata": {},
   "outputs": [
    {
     "name": "stdout",
     "output_type": "stream",
     "text": [
      "prprpr\n"
     ]
    }
   ],
   "source": [
    "str = 'Python program'\n",
    "print(str[7:9]*3)  # The slicing str[7:9] extracts the substring from index 7 to 9,. \n",
    "#Then, the *3 multiplies this substring by 3."
   ]
  },
  {
   "cell_type": "markdown",
   "id": "3c126e93-04c9-40ef-98de-2470926b2e5b",
   "metadata": {},
   "source": [
    "## Splitting\n",
    "\n",
    "split() method to split the string into a list of words and form a list."
   ]
  },
  {
   "cell_type": "code",
   "execution_count": 24,
   "id": "a74aada0-eb2d-48cf-8e9d-aa3dac86a7c3",
   "metadata": {},
   "outputs": [
    {
     "name": "stdout",
     "output_type": "stream",
     "text": [
      "['welcome', 'to', 'the', 'jungle']\n"
     ]
    }
   ],
   "source": [
    "txt = \"welcome to the jungle\"\n",
    "\n",
    "x = txt.split() # string is split into list based on whitespaces\n",
    "\n",
    "print(x)"
   ]
  },
  {
   "cell_type": "markdown",
   "id": "b1410187-bec2-490f-ad4c-a3dfe0bb1a2a",
   "metadata": {},
   "source": [
    "## Splitting"
   ]
  },
  {
   "cell_type": "code",
   "execution_count": 25,
   "id": "1be0c1db-7553-4712-9157-6ffb73473460",
   "metadata": {},
   "outputs": [
    {
     "name": "stdout",
     "output_type": "stream",
     "text": [
      "['apple', 'banana', 'cherry', 'orange']\n"
     ]
    }
   ],
   "source": [
    "txt = \"apple#banana#cherry#orange\"\n",
    "\n",
    "x = txt.split(\"#\") # string is split into list based on #.\n",
    "\n",
    "print(x)"
   ]
  }
 ],
 "metadata": {
  "kernelspec": {
   "display_name": "Python 3 (ipykernel)",
   "language": "python",
   "name": "python3"
  },
  "language_info": {
   "codemirror_mode": {
    "name": "ipython",
    "version": 3
   },
   "file_extension": ".py",
   "mimetype": "text/x-python",
   "name": "python",
   "nbconvert_exporter": "python",
   "pygments_lexer": "ipython3",
   "version": "3.12.1"
  }
 },
 "nbformat": 4,
 "nbformat_minor": 5
}
