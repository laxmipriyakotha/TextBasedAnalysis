{
 "cells": [
  {
   "cell_type": "markdown",
   "id": "1f955a4b-7ddc-43c7-8109-26d3a99d486a",
   "metadata": {},
   "source": [
    "# CLASSWORK-6 02/28/2024"
   ]
  },
  {
   "cell_type": "markdown",
   "id": "f5453666-29a9-4677-83e6-826ac0bb2ade",
   "metadata": {},
   "source": [
    "## INSTALLING NETWORKX PACKAGE"
   ]
  },
  {
   "cell_type": "markdown",
   "id": "e4a46c3a-fc3d-48db-89d9-8121f55b1fc5",
   "metadata": {},
   "source": [
    "NETWORKX IS A PYTHON PACKAGE USED FOR THE CREATION, MANIPULATION, AND STUDY OF COMPLEX NETWORKS OR GRAPHS. IT PROVIDES AN EXTENSIVE LIBRARY OF TOOLS FOR ANALYZING THE STRUCTURE AND DYNAMICS OF NETWORKS, AS WELL AS ALGORITHMS FOR GRAPH THEORY."
   ]
  },
  {
   "cell_type": "code",
   "execution_count": 2,
   "id": "ad1ebb9e-7de8-4daf-b984-74d73dfdf8cf",
   "metadata": {},
   "outputs": [
    {
     "name": "stdout",
     "output_type": "stream",
     "text": [
      "Collecting networkx\n",
      "  Downloading networkx-3.2.1-py3-none-any.whl.metadata (5.2 kB)\n",
      "Downloading networkx-3.2.1-py3-none-any.whl (1.6 MB)\n",
      "   ---------------------------------------- 0.0/1.6 MB ? eta -:--:--\n",
      "   ---------------------------------------- 0.0/1.6 MB ? eta -:--:--\n",
      "    --------------------------------------- 0.0/1.6 MB 653.6 kB/s eta 0:00:03\n",
      "   ------ --------------------------------- 0.3/1.6 MB 2.2 MB/s eta 0:00:01\n",
      "   -------------------- ------------------- 0.8/1.6 MB 5.9 MB/s eta 0:00:01\n",
      "   ---------------------------------------  1.6/1.6 MB 8.7 MB/s eta 0:00:01\n",
      "   ---------------------------------------- 1.6/1.6 MB 8.1 MB/s eta 0:00:00\n",
      "Installing collected packages: networkx\n",
      "Successfully installed networkx-3.2.1\n",
      "Note: you may need to restart the kernel to use updated packages.\n"
     ]
    }
   ],
   "source": [
    "pip install networkx\n"
   ]
  },
  {
   "cell_type": "markdown",
   "id": "fe101e45-5c13-49d7-8921-3aa5c84e061e",
   "metadata": {},
   "source": [
    "## IMPORTING NECESSARY PACKAGES"
   ]
  },
  {
   "cell_type": "markdown",
   "id": "b381a355-6737-476d-a1f4-8d0fc60eb31d",
   "metadata": {},
   "source": [
    "COSINE_DISTANCE FUNCTION FROM THE UTIL MODULE WITHIN THE CLUSTER PACKAGE OF THE NLTK (NATURAL LANGUAGE TOOLKIT) LIBRARY, ENABLING THE CALCULATION OF COSINE DISTANCE, A METRIC USED FOR MEASURING SIMILARITY BETWEEN VECTORS, OFTEN  APPLIED IN CLUSTERING AND TEXT SIMILARITY TASKS."
   ]
  },
  {
   "cell_type": "code",
   "execution_count": 2,
   "id": "4a50451c-732c-4d96-b1d9-8ca24f5dd19b",
   "metadata": {},
   "outputs": [],
   "source": [
    "from nltk.corpus import stopwords #you can remove stop words for speed\n",
    "from nltk.cluster.util import cosine_distance\n",
    "import numpy as np\n",
    "import networkx as nx\n"
   ]
  },
  {
   "cell_type": "markdown",
   "id": "9a7e3e01-4c00-4682-9712-5f19f64086c4",
   "metadata": {},
   "source": [
    "## OPENING FILE AND SPLITTING INTO SENTENCES"
   ]
  },
  {
   "cell_type": "code",
   "execution_count": 3,
   "id": "d09169eb-5744-483f-94a6-9851e142a507",
   "metadata": {},
   "outputs": [
    {
     "name": "stdout",
     "output_type": "stream",
     "text": [
      "It was the best of times\n",
      "It was the worst of times\n",
      "It was the age of wisdom\n",
      "It was the age of foolishness\n",
      "What is the importance of age\n",
      "This is the best example.\n"
     ]
    }
   ],
   "source": [
    "file = open(\"C:\\\\Users\\\\laxmi\\\\Downloads\\\\Text1.txt\", \"r\")\n",
    "#This fileA contains one paragraph of multiple sentences\n",
    "filedata = file.readlines()\n",
    "article = filedata[0].split(\". \") #Just do the first paragraph\n",
    "\n",
    "sentences = []\n",
    "for sentence in article:\n",
    "    print(sentence)\n",
    "    sentences.append(sentence.replace(\"[^a-zA-Z]\", \" \").split(\" \"))\n"
   ]
  },
  {
   "cell_type": "markdown",
   "id": "685e26ad-6a9c-42e5-888e-947fe413f134",
   "metadata": {},
   "source": [
    "## PRINTING LIST OF SENTENCES"
   ]
  },
  {
   "cell_type": "code",
   "execution_count": 4,
   "id": "b064d27f-dc56-4817-8d49-70e077b8e56a",
   "metadata": {},
   "outputs": [
    {
     "name": "stdout",
     "output_type": "stream",
     "text": [
      "Sentences are  [['It', 'was', 'the', 'best', 'of', 'times'], ['It', 'was', 'the', 'worst', 'of', 'times'], ['It', 'was', 'the', 'age', 'of', 'wisdom'], ['It', 'was', 'the', 'age', 'of', 'foolishness'], ['What', 'is', 'the', 'importance', 'of', 'age'], ['This', 'is', 'the', 'best', 'example.']]\n"
     ]
    }
   ],
   "source": [
    "print(\"Sentences are \", sentences)\n"
   ]
  },
  {
   "cell_type": "markdown",
   "id": "c0bb6346-b404-49b6-9b9e-bb000a435d8d",
   "metadata": {},
   "source": [
    "## FUNCTION TO CALCULATE SIMILARITY"
   ]
  },
  {
   "cell_type": "markdown",
   "id": "e691e78f-bb85-4be5-b516-7fdb18e0633d",
   "metadata": {},
   "source": [
    "SENTENCE_SIMILARITY FUNCTION CALCULATES THE SIMILARITY BETWEEN TWO SENTENCES BASED ON THEIR WORD FREQUENCY VECTORS, UTILIZING COSINE DISTANCE AS A METRIC. THE FUNCTION FIRST NORMALIZES THE SENTENCES TO LOWERCASE, THEN BUILDS VECTORS REPRESENTING THE WORD FREQUENCY OF ALL UNIQUE WORDS IN THE SENTENCES. FINALLY, IT RETURNS A SIMILARITY SCORE BASED ON THE COSINE DISTANCE BETWEEN THE TWO VECTORS."
   ]
  },
  {
   "cell_type": "code",
   "execution_count": 5,
   "id": "c621a591-ccf2-4461-a7f6-ce4fb0a4dcae",
   "metadata": {},
   "outputs": [],
   "source": [
    "def sentence_similarity(sent1, sent2 ):\n",
    "    sent1 = [w.lower() for w in sent1]\n",
    "    sent2 = [w.lower() for w in sent2]\n",
    "    all_words = list(set(sent1 + sent2))\n",
    "    vector1 = [0] * len(all_words)\n",
    "    vector2 = [0] * len(all_words)\n",
    "     # build the vector for the first sentence\n",
    "    for w in sent1:\n",
    "          vector1[all_words.index(w)] += 1\n",
    "     # build the vector for the second sentence\n",
    "    for w in sent2:\n",
    "          vector2[all_words.index(w)] += 1\n",
    "    return 1 - cosine_distance(vector1, vector2)\n"
   ]
  },
  {
   "cell_type": "markdown",
   "id": "76ff95eb-935a-4519-8de8-b0b010dccd42",
   "metadata": {},
   "source": [
    "## CREATING SIMILARITY MATRIX"
   ]
  },
  {
   "cell_type": "markdown",
   "id": "226d65b3-90a6-4a63-9523-3d2916831fe2",
   "metadata": {},
   "source": [
    "SIMILARITY_MATRIX IS A NUMPY ARRAY INITIALIZED WITH ZEROS, WHERE EACH ELEMENT REPRESENTS THE SIMILARITY BETWEEN TWO SENTENCES. THE CODE ITERATES THROUGH ALL COMBINATIONS OF SENTENCES, CALCULATES THE SIMILARITY BETWEEN EACH PAIR USING THE sentence_similarity FUNCTION, AND STORES THE RESULTING SIMILARITY SCORES IN THE SIMILARITY_MATRIX. THE DIAGONAL ELEMENTS (WHERE idx1 == idx2) ARE IGNORED, AS THEY REPRESENT COMPARISONS OF A SENTENCE WITH ITSELF. THE FINAL SIMILARITY MATRIX IS PRINTED OUT."
   ]
  },
  {
   "cell_type": "code",
   "execution_count": 6,
   "id": "35af842d-3c0f-4fc2-8114-75aa99afdf11",
   "metadata": {},
   "outputs": [
    {
     "name": "stdout",
     "output_type": "stream",
     "text": [
      "Smilarity matrix \n",
      " [[0.         0.83333333 0.66666667 0.66666667 0.33333333 0.36514837]\n",
      " [0.83333333 0.         0.66666667 0.66666667 0.33333333 0.18257419]\n",
      " [0.66666667 0.66666667 0.         0.83333333 0.5        0.18257419]\n",
      " [0.66666667 0.66666667 0.83333333 0.         0.5        0.18257419]\n",
      " [0.33333333 0.33333333 0.5        0.5        0.         0.36514837]\n",
      " [0.36514837 0.18257419 0.18257419 0.18257419 0.36514837 0.        ]]\n"
     ]
    }
   ],
   "source": [
    "similarity_matrix = np.zeros((len(sentences), len(sentences)))\n",
    " \n",
    "for idx1 in range(len(sentences)):\n",
    "        for idx2 in range(len(sentences)):\n",
    "             if idx1 == idx2: #ignore if both are same sentences\n",
    "                continue \n",
    "             similarity_matrix[idx1][idx2] = sentence_similarity(sentences[idx1], sentences[idx2])\n",
    "\n",
    "print(\"Smilarity matrix \\n\", similarity_matrix)\n"
   ]
  },
  {
   "cell_type": "markdown",
   "id": "e6039da9-3d85-4bf5-a5f9-fb49a4befe94",
   "metadata": {},
   "source": [
    "## GETTING PAGERANK SCORES"
   ]
  },
  {
   "cell_type": "code",
   "execution_count": 7,
   "id": "f5d7f481-6715-4217-8a4e-f8768e68a894",
   "metadata": {},
   "outputs": [
    {
     "name": "stdout",
     "output_type": "stream",
     "text": [
      "scores {0: 0.19306449754902083, 1: 0.18095893645850156, 2: 0.1911855225552033, 3: 0.1911855225552033, 4: 0.14434636291527997, 5: 0.09925915796679063}\n"
     ]
    }
   ],
   "source": [
    "# Step 3 - Rank sentences in similarity martix\n",
    "sentence_similarity_graph = nx.from_numpy_array(similarity_matrix)\n",
    "scores = nx.pagerank(sentence_similarity_graph)\n",
    "print(\"scores\", scores)\n"
   ]
  },
  {
   "cell_type": "markdown",
   "id": "4ff119e1-b772-4089-821d-02dd16973a99",
   "metadata": {},
   "source": [
    "## SORTING SENTENCE BY PAGE RANK"
   ]
  },
  {
   "cell_type": "code",
   "execution_count": 8,
   "id": "c87e97cc-d998-4239-bda7-8ce130263539",
   "metadata": {},
   "outputs": [
    {
     "name": "stdout",
     "output_type": "stream",
     "text": [
      "Indexes of top ranked_sentence order are \n",
      "\n",
      " [(0.19306449754902083, ['It', 'was', 'the', 'best', 'of', 'times']), (0.1911855225552033, ['It', 'was', 'the', 'age', 'of', 'wisdom']), (0.1911855225552033, ['It', 'was', 'the', 'age', 'of', 'foolishness']), (0.18095893645850156, ['It', 'was', 'the', 'worst', 'of', 'times']), (0.14434636291527997, ['What', 'is', 'the', 'importance', 'of', 'age']), (0.09925915796679063, ['This', 'is', 'the', 'best', 'example.'])]\n"
     ]
    }
   ],
   "source": [
    "# Step 4 - Sort the rank and pick top sentences\n",
    "ranked_sentence = sorted(((scores[i],s) for i,s in enumerate(sentences)), reverse=True)    \n",
    "print(\"Indexes of top ranked_sentence order are \\n\\n\", ranked_sentence)\n"
   ]
  },
  {
   "cell_type": "markdown",
   "id": "e72cda0d-37e5-4407-b367-f3b6ed483737",
   "metadata": {},
   "source": [
    "## PICKING TOP \"N\" SENTENCES"
   ]
  },
  {
   "cell_type": "code",
   "execution_count": 9,
   "id": "ad392b9e-fe63-4d2d-8c86-b4c4ec5fa634",
   "metadata": {},
   "outputs": [
    {
     "name": "stdin",
     "output_type": "stream",
     "text": [
      "How many sentences do you want in the summary?  3\n"
     ]
    }
   ],
   "source": [
    "#Step 5 - How many sentences to pick\n",
    "n = int(input(\"How many sentences do you want in the summary? \"))\n",
    "#n=2\n",
    "summarize_text = []\n",
    "for i in range(n):\n",
    "      summarize_text.append(\" \".join(ranked_sentence[i][1]))\n",
    "\n",
    "\n"
   ]
  },
  {
   "cell_type": "markdown",
   "id": "32eb4141-dd50-49c3-9e50-016fbfaac5f1",
   "metadata": {},
   "source": [
    "## PRINTING SUMMARY"
   ]
  },
  {
   "cell_type": "code",
   "execution_count": 10,
   "id": "c6a8cc52-8d8c-4948-9153-2e05b194fea1",
   "metadata": {},
   "outputs": [
    {
     "name": "stdout",
     "output_type": "stream",
     "text": [
      "Summarize Text: \n",
      " It was the best of times. It was the age of wisdom. It was the age of foolishness\n"
     ]
    }
   ],
   "source": [
    "### Step 6 - Offcourse, output the summarize text\n",
    "print(\"Summarize Text: \\n\", \". \".join(summarize_text))\n"
   ]
  },
  {
   "cell_type": "markdown",
   "id": "6edeb849-e1ce-4e0d-bf90-1a1a89f9513a",
   "metadata": {},
   "source": [
    "## INSTALLING NETWORKX PACKAGE"
   ]
  },
  {
   "cell_type": "markdown",
   "id": "416bddc2-ec22-40ce-b7dc-af01a8cd0887",
   "metadata": {},
   "source": [
    "NETWORKX IS A PYTHON PACKAGE USED FOR THE CREATION, MANIPULATION, AND STUDY OF COMPLEX NETWORKS OR GRAPHS. IT PROVIDES AN EXTENSIVE LIBRARY OF TOOLS FOR ANALYZING THE STRUCTURE AND DYNAMICS OF NETWORKS, AS WELL AS ALGORITHMS FOR GRAPH THEORY."
   ]
  },
  {
   "cell_type": "code",
   "execution_count": 2,
   "id": "178e5df2-3193-4fc9-8ee1-bbda7e5f6487",
   "metadata": {},
   "outputs": [
    {
     "name": "stdout",
     "output_type": "stream",
     "text": [
      "Collecting networkx\n",
      "  Downloading networkx-3.2.1-py3-none-any.whl.metadata (5.2 kB)\n",
      "Downloading networkx-3.2.1-py3-none-any.whl (1.6 MB)\n",
      "   ---------------------------------------- 0.0/1.6 MB ? eta -:--:--\n",
      "   ---------------------------------------- 0.0/1.6 MB ? eta -:--:--\n",
      "    --------------------------------------- 0.0/1.6 MB 653.6 kB/s eta 0:00:03\n",
      "   ------ --------------------------------- 0.3/1.6 MB 2.2 MB/s eta 0:00:01\n",
      "   -------------------- ------------------- 0.8/1.6 MB 5.9 MB/s eta 0:00:01\n",
      "   ---------------------------------------  1.6/1.6 MB 8.7 MB/s eta 0:00:01\n",
      "   ---------------------------------------- 1.6/1.6 MB 8.1 MB/s eta 0:00:00\n",
      "Installing collected packages: networkx\n",
      "Successfully installed networkx-3.2.1\n",
      "Note: you may need to restart the kernel to use updated packages.\n"
     ]
    }
   ],
   "source": [
    "pip install networkx\n"
   ]
  },
  {
   "cell_type": "markdown",
   "id": "545d3828-d6ad-4d79-8336-8e395f96cc6d",
   "metadata": {},
   "source": [
    "## IMPORTING NECESSARY PACKAGES"
   ]
  },
  {
   "cell_type": "markdown",
   "id": "7d2fe3dd-0560-4e15-a91f-7f6fd7fc77e6",
   "metadata": {},
   "source": [
    "COSINE_DISTANCE FUNCTION FROM THE UTIL MODULE WITHIN THE CLUSTER PACKAGE OF THE NLTK (NATURAL LANGUAGE TOOLKIT) LIBRARY, ENABLING THE CALCULATION OF COSINE DISTANCE, A METRIC USED FOR MEASURING SIMILARITY BETWEEN VECTORS, OFTEN  APPLIED IN CLUSTERING AND TEXT SIMILARITY TASKS."
   ]
  },
  {
   "cell_type": "code",
   "execution_count": 3,
   "id": "71b90da4-14dc-455d-9cce-32aff719a2aa",
   "metadata": {},
   "outputs": [],
   "source": [
    "from nltk.corpus import stopwords #you can remove stop words for speed\n",
    "from nltk.cluster.util import cosine_distance\n",
    "import numpy as np\n",
    "import networkx as nx\n"
   ]
  },
  {
   "cell_type": "markdown",
   "id": "0d047dc7-b50d-48dc-b8ac-5dbad1b3cc34",
   "metadata": {},
   "source": [
    "## OPENING FILE AND SPLITTING INTO SENTENCES"
   ]
  },
  {
   "cell_type": "code",
   "execution_count": 9,
   "id": "ec5308c7-229b-48ce-b084-87dce39f1dd5",
   "metadata": {},
   "outputs": [
    {
     "name": "stdout",
     "output_type": "stream",
     "text": [
      "It was the best of times\n",
      "It was the worst of times\n",
      "It was the age of wisdom\n",
      "It was the age of foolishness\n",
      "What is the importance of age\n",
      "This is the best example.\n"
     ]
    }
   ],
   "source": [
    "file = open(\"C:\\\\Users\\\\laxmi\\\\Downloads\\\\Text1.txt\", \"r\")\n",
    "#This fileA contains one paragraph of multiple sentences\n",
    "filedata = file.readlines()\n",
    "article = filedata[0].split(\". \") #Just do the first paragraph\n",
    "\n",
    "sentences = []\n",
    "for sentence in article:\n",
    "    print(sentence)\n",
    "    sentences.append(sentence.replace(\"[^a-zA-Z]\", \" \").split(\" \"))\n"
   ]
  },
  {
   "cell_type": "markdown",
   "id": "0aa1fc66-bdb5-4871-bb9c-bb1aeb7f3099",
   "metadata": {},
   "source": [
    "## PRINTING LIST OF SENTENCES"
   ]
  },
  {
   "cell_type": "code",
   "execution_count": 10,
   "id": "f612a350-db1d-4088-b5cb-87af9af168aa",
   "metadata": {},
   "outputs": [
    {
     "name": "stdout",
     "output_type": "stream",
     "text": [
      "Sentences are  [['It', 'was', 'the', 'best', 'of', 'times'], ['It', 'was', 'the', 'worst', 'of', 'times'], ['It', 'was', 'the', 'age', 'of', 'wisdom'], ['It', 'was', 'the', 'age', 'of', 'foolishness'], ['What', 'is', 'the', 'importance', 'of', 'age'], ['This', 'is', 'the', 'best', 'example.']]\n"
     ]
    }
   ],
   "source": [
    "print(\"Sentences are \", sentences)\n"
   ]
  },
  {
   "cell_type": "markdown",
   "id": "dd564bd1-12b0-4fe5-bd1f-2b0a39783f6c",
   "metadata": {},
   "source": [
    "## FUNCTION TO CALCULATE SIMILARITY"
   ]
  },
  {
   "cell_type": "markdown",
   "id": "88c1fd97-373f-44b9-9677-b0c8e15517d7",
   "metadata": {},
   "source": [
    "SENTENCE_SIMILARITY FUNCTION CALCULATES THE SIMILARITY BETWEEN TWO SENTENCES BASED ON THEIR WORD FREQUENCY VECTORS, UTILIZING COSINE DISTANCE AS A METRIC. THE FUNCTION FIRST NORMALIZES THE SENTENCES TO LOWERCASE, THEN BUILDS VECTORS REPRESENTING THE WORD FREQUENCY OF ALL UNIQUE WORDS IN THE SENTENCES. FINALLY, IT RETURNS A SIMILARITY SCORE BASED ON THE COSINE DISTANCE BETWEEN THE TWO VECTORS."
   ]
  },
  {
   "cell_type": "code",
   "execution_count": 12,
   "id": "6de8514e-847b-4d58-8092-0b8c2fe1a60d",
   "metadata": {},
   "outputs": [],
   "source": [
    "def sentence_similarity(sent1, sent2 ):\n",
    "    sent1 = [w.lower() for w in sent1]\n",
    "    sent2 = [w.lower() for w in sent2]\n",
    "    all_words = list(set(sent1 + sent2))\n",
    "    vector1 = [0] * len(all_words)\n",
    "    vector2 = [0] * len(all_words)\n",
    "     # build the vector for the first sentence\n",
    "    for w in sent1:\n",
    "          vector1[all_words.index(w)] += 1\n",
    "     # build the vector for the second sentence\n",
    "    for w in sent2:\n",
    "          vector2[all_words.index(w)] += 1\n",
    "    return 1 - cosine_distance(vector1, vector2)\n"
   ]
  },
  {
   "cell_type": "markdown",
   "id": "2d99056f-7a0e-4d8e-82a9-04931b0c8dec",
   "metadata": {},
   "source": [
    "## CREATING SIMILARITY MATRIX"
   ]
  },
  {
   "cell_type": "code",
   "execution_count": 13,
   "id": "4650e3c1-8627-4dfa-aff1-8ca915bb7445",
   "metadata": {},
   "outputs": [
    {
     "name": "stdout",
     "output_type": "stream",
     "text": [
      "Smilarity matrix \n",
      " [[0.         0.83333333 0.66666667 0.66666667 0.33333333 0.36514837]\n",
      " [0.83333333 0.         0.66666667 0.66666667 0.33333333 0.18257419]\n",
      " [0.66666667 0.66666667 0.         0.83333333 0.5        0.18257419]\n",
      " [0.66666667 0.66666667 0.83333333 0.         0.5        0.18257419]\n",
      " [0.33333333 0.33333333 0.5        0.5        0.         0.36514837]\n",
      " [0.36514837 0.18257419 0.18257419 0.18257419 0.36514837 0.        ]]\n"
     ]
    }
   ],
   "source": [
    "similarity_matrix = np.zeros((len(sentences), len(sentences)))\n",
    " \n",
    "for idx1 in range(len(sentences)):\n",
    "        for idx2 in range(len(sentences)):\n",
    "             if idx1 == idx2: #ignore if both are same sentences\n",
    "                continue \n",
    "             similarity_matrix[idx1][idx2] = sentence_similarity(sentences[idx1], sentences[idx2])\n",
    "\n",
    "print(\"Smilarity matrix \\n\", similarity_matrix)\n"
   ]
  },
  {
   "cell_type": "markdown",
   "id": "890b410c-997b-4bd2-87a0-60d9770108bf",
   "metadata": {},
   "source": [
    "## GETTING PAGERANK SCORES"
   ]
  },
  {
   "cell_type": "code",
   "execution_count": 14,
   "id": "5411aff6-fbbf-4157-8996-98bebb9fcb6d",
   "metadata": {},
   "outputs": [
    {
     "name": "stdout",
     "output_type": "stream",
     "text": [
      "scores {0: 0.19306449754902083, 1: 0.18095893645850156, 2: 0.1911855225552033, 3: 0.1911855225552033, 4: 0.14434636291527997, 5: 0.09925915796679063}\n"
     ]
    }
   ],
   "source": [
    "# Step 3 - Rank sentences in similarity martix\n",
    "sentence_similarity_graph = nx.from_numpy_array(similarity_matrix)\n",
    "scores = nx.pagerank(sentence_similarity_graph)\n",
    "print(\"scores\", scores)\n"
   ]
  },
  {
   "cell_type": "markdown",
   "id": "deb2f65b-e5b6-430c-995c-bf747908e9cb",
   "metadata": {},
   "source": [
    "## SORTING SENTENCE BY PAGE RANK"
   ]
  },
  {
   "cell_type": "code",
   "execution_count": 15,
   "id": "8bffc1d3-e7a2-4f66-ae8c-f1601670208e",
   "metadata": {},
   "outputs": [
    {
     "name": "stdout",
     "output_type": "stream",
     "text": [
      "Indexes of top ranked_sentence order are \n",
      "\n",
      " [(0.19306449754902083, ['It', 'was', 'the', 'best', 'of', 'times']), (0.1911855225552033, ['It', 'was', 'the', 'age', 'of', 'wisdom']), (0.1911855225552033, ['It', 'was', 'the', 'age', 'of', 'foolishness']), (0.18095893645850156, ['It', 'was', 'the', 'worst', 'of', 'times']), (0.14434636291527997, ['What', 'is', 'the', 'importance', 'of', 'age']), (0.09925915796679063, ['This', 'is', 'the', 'best', 'example.'])]\n"
     ]
    }
   ],
   "source": [
    "# Step 4 - Sort the rank and pick top sentences\n",
    "ranked_sentence = sorted(((scores[i],s) for i,s in enumerate(sentences)), reverse=True)    \n",
    "print(\"Indexes of top ranked_sentence order are \\n\\n\", ranked_sentence)\n"
   ]
  },
  {
   "cell_type": "markdown",
   "id": "96b27c13-48a7-4a15-9556-5c7288e55cd8",
   "metadata": {},
   "source": [
    "## PICKING TOP \"N\" SENTENCES"
   ]
  },
  {
   "cell_type": "code",
   "execution_count": 19,
   "id": "15ae41a9-bdb8-42f8-a769-5b6b8a182770",
   "metadata": {},
   "outputs": [
    {
     "name": "stdin",
     "output_type": "stream",
     "text": [
      "How many sentences do you want in the summary?  3\n"
     ]
    }
   ],
   "source": [
    "#Step 5 - How many sentences to pick\n",
    "n = int(input(\"How many sentences do you want in the summary? \"))\n",
    "#n=2\n",
    "summarize_text = []\n",
    "for i in range(n):\n",
    "      summarize_text.append(\" \".join(ranked_sentence[i][1]))\n",
    "\n",
    "\n"
   ]
  },
  {
   "cell_type": "markdown",
   "id": "9d2bcdab-5c9a-46d7-9dc9-fa66baa14853",
   "metadata": {},
   "source": [
    "## PRINTING SUMMARY"
   ]
  },
  {
   "cell_type": "code",
   "execution_count": 20,
   "id": "fcb35d89-8cae-4ef5-b0d3-cfb7cacc2b77",
   "metadata": {},
   "outputs": [
    {
     "name": "stdout",
     "output_type": "stream",
     "text": [
      "Summarize Text: \n",
      " It was the best of times. It was the age of wisdom. It was the age of foolishness\n"
     ]
    }
   ],
   "source": [
    "### Step 6 - Offcourse, output the summarize text\n",
    "print(\"Summarize Text: \\n\", \". \".join(summarize_text))\n"
   ]
  },
  {
   "cell_type": "markdown",
   "id": "15fb8c7b-b3f4-4928-a1bf-839f04f805a8",
   "metadata": {},
   "source": [
    "# TEXTFILE-2"
   ]
  },
  {
   "cell_type": "markdown",
   "id": "e2cedd0a-8c7c-41ec-8dbf-ddc976a18932",
   "metadata": {},
   "source": [
    "## OPENING FILE AND SPLITTING INTO SENTENCES"
   ]
  },
  {
   "cell_type": "code",
   "execution_count": 11,
   "id": "00c658c7-da0f-4987-aef5-4746e6499a15",
   "metadata": {},
   "outputs": [
    {
     "name": "stdout",
     "output_type": "stream",
     "text": [
      "I AM SAM\n",
      "I AM SAM\n",
      "SAM I AM\n",
      "THAT SAM-I-AM! THAT SAM-I-AM!\n",
      "I DO NOT LIKE THAT SAM-I-AM!\n",
      "DO WOULD YOU LIKE GREEN EGGS AND HAM?\n",
      "I DO NOT LIKE THEM, SAM-I-AM\n",
      "I DO NOT LIKE GREEN EGGS AND HAM\n",
      "WOULD YOU LIKE THEM HERE OR THERE?\n",
      "I WOULD NOT LIKE THEM HERE OR THERE\n",
      "I WOULD NOT LIKE THEM ANYWHERE\n",
      "I DO NOT LIKE GREEN EGGS AND HAM\n",
      "I DO NOT LIKE THEM, SAM-I-AM\n",
      "WOULD YOU LIKE THEM IN A HOUSE?\n",
      "WOULD YOU LIKE THEN WITH A MOUSE?\n",
      "I DO NOT LIKE THEM IN A HOUSE\n",
      "I DO NOT LIKE THEM WITH A MOUSE\n",
      "I DO NOT LIKE THEM HERE OR THERE\n",
      "I DO NOT LIKE THEM ANYWHERE\n",
      "I DO NOT LIKE GREEN EGGS AND HAM\n",
      "I DO NOT LIKE THEM, SAM-I-AM.\n",
      "\n"
     ]
    }
   ],
   "source": [
    "file = open(\"C:\\\\Users\\\\laxmi\\\\Downloads\\\\Text2.txt\", \"r\")\n",
    "#This fileA contains one paragraph of multiple sentences\n",
    "filedata = file.readlines()\n",
    "article = filedata[0].split(\". \") #Just do the first paragraph\n",
    "\n",
    "sentences = []\n",
    "for sentence in article:\n",
    "    print(sentence)\n",
    "    sentences.append(sentence.replace(\"[^a-zA-Z]\", \" \").split(\" \"))\n"
   ]
  },
  {
   "cell_type": "markdown",
   "id": "faba69c5-61a5-4f4c-83fa-b9c69e182f0a",
   "metadata": {},
   "source": [
    "## PRINTING LIST OF SENTENCES"
   ]
  },
  {
   "cell_type": "code",
   "execution_count": 12,
   "id": "61c7588d-2b04-4625-8969-782017976735",
   "metadata": {},
   "outputs": [
    {
     "name": "stdout",
     "output_type": "stream",
     "text": [
      "Sentences are  [['I', 'AM', 'SAM'], ['I', 'AM', 'SAM'], ['SAM', 'I', 'AM'], ['THAT', 'SAM-I-AM!', 'THAT', 'SAM-I-AM!'], ['I', 'DO', 'NOT', 'LIKE', 'THAT', 'SAM-I-AM!'], ['DO', 'WOULD', 'YOU', 'LIKE', 'GREEN', 'EGGS', 'AND', 'HAM?'], ['I', 'DO', 'NOT', 'LIKE', 'THEM,', 'SAM-I-AM'], ['I', 'DO', 'NOT', 'LIKE', 'GREEN', 'EGGS', 'AND', 'HAM'], ['WOULD', 'YOU', 'LIKE', 'THEM', 'HERE', 'OR', 'THERE?'], ['I', 'WOULD', 'NOT', 'LIKE', 'THEM', 'HERE', 'OR', 'THERE'], ['I', 'WOULD', 'NOT', 'LIKE', 'THEM', 'ANYWHERE'], ['I', 'DO', 'NOT', 'LIKE', 'GREEN', 'EGGS', 'AND', 'HAM'], ['I', 'DO', 'NOT', 'LIKE', 'THEM,', 'SAM-I-AM'], ['WOULD', 'YOU', 'LIKE', 'THEM', 'IN', 'A', 'HOUSE?'], ['WOULD', 'YOU', 'LIKE', 'THEN', 'WITH', 'A', 'MOUSE?'], ['I', 'DO', 'NOT', 'LIKE', 'THEM', 'IN', 'A', 'HOUSE'], ['I', 'DO', 'NOT', 'LIKE', 'THEM', 'WITH', 'A', 'MOUSE'], ['I', 'DO', 'NOT', 'LIKE', 'THEM', 'HERE', 'OR', 'THERE'], ['I', 'DO', 'NOT', 'LIKE', 'THEM', 'ANYWHERE'], ['I', 'DO', 'NOT', 'LIKE', 'GREEN', 'EGGS', 'AND', 'HAM'], ['I', 'DO', 'NOT', 'LIKE', 'THEM,', 'SAM-I-AM.\\n']]\n"
     ]
    }
   ],
   "source": [
    "print(\"Sentences are \", sentences)\n"
   ]
  },
  {
   "cell_type": "markdown",
   "id": "60768833-496a-4d8a-9a3b-230e44c16240",
   "metadata": {},
   "source": [
    "## FUNCTION TO CALCULATE SIMILARITY"
   ]
  },
  {
   "cell_type": "markdown",
   "id": "cb1bb51a-4cbe-42be-b3d5-8f91c5372b88",
   "metadata": {},
   "source": [
    "SENTENCE_SIMILARITY FUNCTION CALCULATES THE SIMILARITY BETWEEN TWO SENTENCES BASED ON THEIR WORD FREQUENCY VECTORS, UTILIZING COSINE DISTANCE AS A METRIC. THE FUNCTION FIRST NORMALIZES THE SENTENCES TO LOWERCASE, THEN BUILDS VECTORS REPRESENTING THE WORD FREQUENCY OF ALL UNIQUE WORDS IN THE SENTENCES. FINALLY, IT RETURNS A SIMILARITY SCORE BASED ON THE COSINE DISTANCE BETWEEN THE TWO VECTORS."
   ]
  },
  {
   "cell_type": "code",
   "execution_count": 13,
   "id": "bf7c67a8-7ccc-4182-a641-cb5c974fb3dc",
   "metadata": {},
   "outputs": [],
   "source": [
    "def sentence_similarity(sent1, sent2 ):\n",
    "    sent1 = [w.lower() for w in sent1]\n",
    "    sent2 = [w.lower() for w in sent2]\n",
    "    all_words = list(set(sent1 + sent2))\n",
    "    vector1 = [0] * len(all_words)\n",
    "    vector2 = [0] * len(all_words)\n",
    "     # build the vector for the first sentence\n",
    "    for w in sent1:\n",
    "          vector1[all_words.index(w)] += 1\n",
    "     # build the vector for the second sentence\n",
    "    for w in sent2:\n",
    "          vector2[all_words.index(w)] += 1\n",
    "    return 1 - cosine_distance(vector1, vector2)\n"
   ]
  },
  {
   "cell_type": "markdown",
   "id": "38605684-c8ef-46da-b467-8d51d32e84a3",
   "metadata": {},
   "source": [
    "## CREATING SIMILARITY MATRIX"
   ]
  },
  {
   "cell_type": "markdown",
   "id": "e56ca90d-ae23-4cba-a544-92bb50223754",
   "metadata": {},
   "source": [
    "SIMILARITY_MATRIX IS A NUMPY ARRAY INITIALIZED WITH ZEROS, WHERE EACH ELEMENT REPRESENTS THE SIMILARITY BETWEEN TWO SENTENCES. THE CODE ITERATES THROUGH ALL COMBINATIONS OF SENTENCES, CALCULATES THE SIMILARITY BETWEEN EACH PAIR USING THE sentence_similarity FUNCTION, AND STORES THE RESULTING SIMILARITY SCORES IN THE SIMILARITY_MATRIX. THE DIAGONAL ELEMENTS (WHERE idx1 == idx2) ARE IGNORED, AS THEY REPRESENT COMPARISONS OF A SENTENCE WITH ITSELF. THE FINAL SIMILARITY MATRIX IS PRINTED OUT."
   ]
  },
  {
   "cell_type": "code",
   "execution_count": 14,
   "id": "262356a4-55d7-44b6-8fa1-aeeaf6ae71c4",
   "metadata": {},
   "outputs": [
    {
     "name": "stdout",
     "output_type": "stream",
     "text": [
      "Smilarity matrix \n",
      " [[0.         1.         1.         0.         0.23570226 0.\n",
      "  0.23570226 0.20412415 0.         0.20412415 0.23570226 0.20412415\n",
      "  0.23570226 0.         0.         0.20412415 0.20412415 0.20412415\n",
      "  0.23570226 0.20412415 0.23570226]\n",
      " [1.         0.         1.         0.         0.23570226 0.\n",
      "  0.23570226 0.20412415 0.         0.20412415 0.23570226 0.20412415\n",
      "  0.23570226 0.         0.         0.20412415 0.20412415 0.20412415\n",
      "  0.23570226 0.20412415 0.23570226]\n",
      " [1.         1.         0.         0.         0.23570226 0.\n",
      "  0.23570226 0.20412415 0.         0.20412415 0.23570226 0.20412415\n",
      "  0.23570226 0.         0.         0.20412415 0.20412415 0.20412415\n",
      "  0.23570226 0.20412415 0.23570226]\n",
      " [0.         0.         0.         0.         0.57735027 0.\n",
      "  0.         0.         0.         0.         0.         0.\n",
      "  0.         0.         0.         0.         0.         0.\n",
      "  0.         0.         0.        ]\n",
      " [0.23570226 0.23570226 0.23570226 0.57735027 0.         0.28867513\n",
      "  0.66666667 0.57735027 0.15430335 0.4330127  0.5        0.57735027\n",
      "  0.66666667 0.15430335 0.15430335 0.57735027 0.57735027 0.57735027\n",
      "  0.66666667 0.57735027 0.66666667]\n",
      " [0.         0.         0.         0.         0.28867513 0.\n",
      "  0.28867513 0.625      0.40089186 0.25       0.28867513 0.625\n",
      "  0.28867513 0.40089186 0.40089186 0.25       0.25       0.25\n",
      "  0.28867513 0.625      0.28867513]\n",
      " [0.23570226 0.23570226 0.23570226 0.         0.66666667 0.28867513\n",
      "  0.         0.57735027 0.15430335 0.4330127  0.5        0.57735027\n",
      "  1.         0.15430335 0.15430335 0.57735027 0.57735027 0.57735027\n",
      "  0.66666667 0.57735027 0.83333333]\n",
      " [0.20412415 0.20412415 0.20412415 0.         0.57735027 0.625\n",
      "  0.57735027 0.         0.13363062 0.375      0.4330127  1.\n",
      "  0.57735027 0.13363062 0.13363062 0.5        0.5        0.5\n",
      "  0.57735027 1.         0.57735027]\n",
      " [0.         0.         0.         0.         0.15430335 0.40089186\n",
      "  0.15430335 0.13363062 0.         0.6681531  0.46291005 0.13363062\n",
      "  0.15430335 0.57142857 0.42857143 0.26726124 0.26726124 0.53452248\n",
      "  0.3086067  0.13363062 0.15430335]\n",
      " [0.20412415 0.20412415 0.20412415 0.         0.4330127  0.25\n",
      "  0.4330127  0.375      0.6681531  0.         0.72168784 0.375\n",
      "  0.4330127  0.40089186 0.26726124 0.5        0.5        0.875\n",
      "  0.57735027 0.375      0.4330127 ]\n",
      " [0.23570226 0.23570226 0.23570226 0.         0.5        0.28867513\n",
      "  0.5        0.4330127  0.46291005 0.72168784 0.         0.4330127\n",
      "  0.5        0.46291005 0.3086067  0.57735027 0.57735027 0.57735027\n",
      "  0.83333333 0.4330127  0.5       ]\n",
      " [0.20412415 0.20412415 0.20412415 0.         0.57735027 0.625\n",
      "  0.57735027 1.         0.13363062 0.375      0.4330127  0.\n",
      "  0.57735027 0.13363062 0.13363062 0.5        0.5        0.5\n",
      "  0.57735027 1.         0.57735027]\n",
      " [0.23570226 0.23570226 0.23570226 0.         0.66666667 0.28867513\n",
      "  1.         0.57735027 0.15430335 0.4330127  0.5        0.57735027\n",
      "  0.         0.15430335 0.15430335 0.57735027 0.57735027 0.57735027\n",
      "  0.66666667 0.57735027 0.83333333]\n",
      " [0.         0.         0.         0.         0.15430335 0.40089186\n",
      "  0.15430335 0.13363062 0.57142857 0.40089186 0.46291005 0.13363062\n",
      "  0.15430335 0.         0.57142857 0.53452248 0.40089186 0.26726124\n",
      "  0.3086067  0.13363062 0.15430335]\n",
      " [0.         0.         0.         0.         0.15430335 0.40089186\n",
      "  0.15430335 0.13363062 0.42857143 0.26726124 0.3086067  0.13363062\n",
      "  0.15430335 0.57142857 0.         0.26726124 0.40089186 0.13363062\n",
      "  0.15430335 0.13363062 0.15430335]\n",
      " [0.20412415 0.20412415 0.20412415 0.         0.57735027 0.25\n",
      "  0.57735027 0.5        0.26726124 0.5        0.57735027 0.5\n",
      "  0.57735027 0.53452248 0.26726124 0.         0.75       0.625\n",
      "  0.72168784 0.5        0.57735027]\n",
      " [0.20412415 0.20412415 0.20412415 0.         0.57735027 0.25\n",
      "  0.57735027 0.5        0.26726124 0.5        0.57735027 0.5\n",
      "  0.57735027 0.40089186 0.40089186 0.75       0.         0.625\n",
      "  0.72168784 0.5        0.57735027]\n",
      " [0.20412415 0.20412415 0.20412415 0.         0.57735027 0.25\n",
      "  0.57735027 0.5        0.53452248 0.875      0.57735027 0.5\n",
      "  0.57735027 0.26726124 0.13363062 0.625      0.625      0.\n",
      "  0.72168784 0.5        0.57735027]\n",
      " [0.23570226 0.23570226 0.23570226 0.         0.66666667 0.28867513\n",
      "  0.66666667 0.57735027 0.3086067  0.57735027 0.83333333 0.57735027\n",
      "  0.66666667 0.3086067  0.15430335 0.72168784 0.72168784 0.72168784\n",
      "  0.         0.57735027 0.66666667]\n",
      " [0.20412415 0.20412415 0.20412415 0.         0.57735027 0.625\n",
      "  0.57735027 1.         0.13363062 0.375      0.4330127  1.\n",
      "  0.57735027 0.13363062 0.13363062 0.5        0.5        0.5\n",
      "  0.57735027 0.         0.57735027]\n",
      " [0.23570226 0.23570226 0.23570226 0.         0.66666667 0.28867513\n",
      "  0.83333333 0.57735027 0.15430335 0.4330127  0.5        0.57735027\n",
      "  0.83333333 0.15430335 0.15430335 0.57735027 0.57735027 0.57735027\n",
      "  0.66666667 0.57735027 0.        ]]\n"
     ]
    }
   ],
   "source": [
    "similarity_matrix = np.zeros((len(sentences), len(sentences)))\n",
    " \n",
    "for idx1 in range(len(sentences)):\n",
    "        for idx2 in range(len(sentences)):\n",
    "             if idx1 == idx2: #ignore if both are same sentences\n",
    "                continue \n",
    "             similarity_matrix[idx1][idx2] = sentence_similarity(sentences[idx1], sentences[idx2])\n",
    "\n",
    "print(\"Smilarity matrix \\n\", similarity_matrix)\n"
   ]
  },
  {
   "cell_type": "markdown",
   "id": "3aa1d6a3-56af-4a83-b457-b7ac18b091a5",
   "metadata": {},
   "source": [
    "## GETTING PAGERANK SCORES"
   ]
  },
  {
   "cell_type": "code",
   "execution_count": 15,
   "id": "02ace148-a7c4-435d-a261-ef1ac4709236",
   "metadata": {},
   "outputs": [
    {
     "name": "stdout",
     "output_type": "stream",
     "text": [
      "scores {0: 0.03492638917817515, 1: 0.03492638917817515, 2: 0.03492638917817515, 3: 0.010552425887368076, 4: 0.06321847556853293, 5: 0.03960609463088077, 6: 0.057289451630209653, 7: 0.056226314678287335, 8: 0.03486412173792891, 9: 0.053338934277549654, 10: 0.0566062415473087, 11: 0.056226314678287335, 12: 0.05728945163020967, 13: 0.0350182718613405, 14: 0.02940805086606966, 15: 0.056983599690836606, 16: 0.05702071446687991, 17: 0.057531865612924, 18: 0.06143601920162538, 19: 0.056226314678287335, 20: 0.05637816982094812}\n"
     ]
    }
   ],
   "source": [
    "# Step 3 - Rank sentences in similarity martix\n",
    "sentence_similarity_graph = nx.from_numpy_array(similarity_matrix)\n",
    "scores = nx.pagerank(sentence_similarity_graph)\n",
    "print(\"scores\", scores)\n"
   ]
  },
  {
   "cell_type": "markdown",
   "id": "e79d811c-72b7-4bb6-a888-92c13844f8d7",
   "metadata": {},
   "source": [
    "## SORTING SENTENCE BY PAGE RANK"
   ]
  },
  {
   "cell_type": "code",
   "execution_count": 16,
   "id": "5d15d5b4-f8bb-413e-a521-65731ef577ad",
   "metadata": {},
   "outputs": [
    {
     "name": "stdout",
     "output_type": "stream",
     "text": [
      "Indexes of top ranked_sentence order are \n",
      "\n",
      " [(0.06321847556853293, ['I', 'DO', 'NOT', 'LIKE', 'THAT', 'SAM-I-AM!']), (0.06143601920162538, ['I', 'DO', 'NOT', 'LIKE', 'THEM', 'ANYWHERE']), (0.057531865612924, ['I', 'DO', 'NOT', 'LIKE', 'THEM', 'HERE', 'OR', 'THERE']), (0.05728945163020967, ['I', 'DO', 'NOT', 'LIKE', 'THEM,', 'SAM-I-AM']), (0.057289451630209653, ['I', 'DO', 'NOT', 'LIKE', 'THEM,', 'SAM-I-AM']), (0.05702071446687991, ['I', 'DO', 'NOT', 'LIKE', 'THEM', 'WITH', 'A', 'MOUSE']), (0.056983599690836606, ['I', 'DO', 'NOT', 'LIKE', 'THEM', 'IN', 'A', 'HOUSE']), (0.0566062415473087, ['I', 'WOULD', 'NOT', 'LIKE', 'THEM', 'ANYWHERE']), (0.05637816982094812, ['I', 'DO', 'NOT', 'LIKE', 'THEM,', 'SAM-I-AM.\\n']), (0.056226314678287335, ['I', 'DO', 'NOT', 'LIKE', 'GREEN', 'EGGS', 'AND', 'HAM']), (0.056226314678287335, ['I', 'DO', 'NOT', 'LIKE', 'GREEN', 'EGGS', 'AND', 'HAM']), (0.056226314678287335, ['I', 'DO', 'NOT', 'LIKE', 'GREEN', 'EGGS', 'AND', 'HAM']), (0.053338934277549654, ['I', 'WOULD', 'NOT', 'LIKE', 'THEM', 'HERE', 'OR', 'THERE']), (0.03960609463088077, ['DO', 'WOULD', 'YOU', 'LIKE', 'GREEN', 'EGGS', 'AND', 'HAM?']), (0.0350182718613405, ['WOULD', 'YOU', 'LIKE', 'THEM', 'IN', 'A', 'HOUSE?']), (0.03492638917817515, ['SAM', 'I', 'AM']), (0.03492638917817515, ['I', 'AM', 'SAM']), (0.03492638917817515, ['I', 'AM', 'SAM']), (0.03486412173792891, ['WOULD', 'YOU', 'LIKE', 'THEM', 'HERE', 'OR', 'THERE?']), (0.02940805086606966, ['WOULD', 'YOU', 'LIKE', 'THEN', 'WITH', 'A', 'MOUSE?']), (0.010552425887368076, ['THAT', 'SAM-I-AM!', 'THAT', 'SAM-I-AM!'])]\n"
     ]
    }
   ],
   "source": [
    "# Step 4 - Sort the rank and pick top sentences\n",
    "ranked_sentence = sorted(((scores[i],s) for i,s in enumerate(sentences)), reverse=True)    \n",
    "print(\"Indexes of top ranked_sentence order are \\n\\n\", ranked_sentence)\n"
   ]
  },
  {
   "cell_type": "markdown",
   "id": "66fcd0aa-07e5-4037-a279-8986310c83b9",
   "metadata": {},
   "source": [
    "## PICKING TOP \"N\" SENTENCES"
   ]
  },
  {
   "cell_type": "code",
   "execution_count": 17,
   "id": "1abaaec3-51df-45d6-8b82-c124595d2460",
   "metadata": {},
   "outputs": [
    {
     "name": "stdin",
     "output_type": "stream",
     "text": [
      "How many sentences do you want in the summary?  4\n"
     ]
    }
   ],
   "source": [
    "#Step 5 - How many sentences to pick\n",
    "n = int(input(\"How many sentences do you want in the summary? \"))\n",
    "#n=2\n",
    "summarize_text = []\n",
    "for i in range(n):\n",
    "      summarize_text.append(\" \".join(ranked_sentence[i][1]))\n",
    "\n",
    "\n"
   ]
  },
  {
   "cell_type": "markdown",
   "id": "35baa711-a39d-4569-856e-90b5164b423b",
   "metadata": {},
   "source": [
    "## PRINTING SUMMARY"
   ]
  },
  {
   "cell_type": "code",
   "execution_count": 18,
   "id": "8e79963f-4419-4857-a465-4d20cba6f5f0",
   "metadata": {},
   "outputs": [
    {
     "name": "stdout",
     "output_type": "stream",
     "text": [
      "Summarize Text: \n",
      " I DO NOT LIKE THAT SAM-I-AM!. I DO NOT LIKE THEM ANYWHERE. I DO NOT LIKE THEM HERE OR THERE. I DO NOT LIKE THEM, SAM-I-AM\n"
     ]
    }
   ],
   "source": [
    "### Step 6 - Offcourse, output the summarize text\n",
    "print(\"Summarize Text: \\n\", \". \".join(summarize_text))\n"
   ]
  },
  {
   "cell_type": "markdown",
   "id": "67f7f2fb-6a31-4698-af6f-0490f41d17e7",
   "metadata": {},
   "source": [
    "# TEXTFILE-3"
   ]
  },
  {
   "cell_type": "markdown",
   "id": "0eabce53-3e96-4a5b-a822-61b2c71c625e",
   "metadata": {},
   "source": [
    "## OPENING FILE AND SPLITTING INTO SENTENCES"
   ]
  },
  {
   "cell_type": "code",
   "execution_count": 19,
   "id": "5349e75a-01c6-45e7-a3c1-fa928bde6f2c",
   "metadata": {},
   "outputs": [
    {
     "name": "stdout",
     "output_type": "stream",
     "text": [
      "As an institution of higher learning, Sacred Heart University places special emphasis on academic integrity, which is a commitment to the fundamental values of honesty, trust, fairness, respect, and responsibility\n",
      "Only when these values are widely respected and practiced by all members of the University students, faculty, administrators, and staff can the University maintain a culture that promotes free exploration of knowledge, constructive debate, genuine learning, effective research, fair assessment of student progress, and development of members characters\n",
      "These aims of the University require that its members exercise mutual responsibilities\n",
      "At its core, academic integrity is secured by a principled commitment to carry out these responsibilities, not by rules and penalties\n",
      "Students and faculty should strive to create an academic environment that is honest, fair, and respectful of all\n",
      "They do this by evaluating others work fairly, by responding to others ideas critically yet courteously, by respecting others intellectual and physical property, and by nurturing the values of academic integrity in all contexts of University life\n",
      "Appropriate disciplinary action will be taken for violations of academic integrity, including plagiarism, cheating, any use of materials for an assignment or exam that is not permitted by the instructor, and theft or mutilation of intellectual materials or other University equipment\n",
      "Faculty will assign failing grades for violations of the University policy on academic integrity and students may immediately receive an F for a course in which they commit a violation\n",
      "Violations of academic integrity are kept on file second violations will bring additional sanctions, up to dismissal from the University\n",
      "For any disciplinary action, the University affords the student the right of due process in an appeals procedure\n",
      "All matriculated students will be provided with a full description of the University standards for academic integrity, consequences for violations, and the appeals procedure.\n"
     ]
    }
   ],
   "source": [
    "file = open(\"C:\\\\Users\\\\laxmi\\\\Downloads\\\\Text3.txt\", \"r\")\n",
    "#This fileA contains one paragraph of multiple sentences\n",
    "filedata = file.readlines()\n",
    "article = filedata[0].split(\". \") #Just do the first paragraph\n",
    "\n",
    "sentences = []\n",
    "for sentence in article:\n",
    "    print(sentence)\n",
    "    sentences.append(sentence.replace(\"[^a-zA-Z]\", \" \").split(\" \"))\n"
   ]
  },
  {
   "cell_type": "markdown",
   "id": "9d55b480-f66e-4e34-8ac2-8bdea41ffe52",
   "metadata": {},
   "source": [
    "## PRINTING LIST OF SENTENCES"
   ]
  },
  {
   "cell_type": "code",
   "execution_count": 20,
   "id": "f814bffd-b485-412c-b03e-1d0706623ec9",
   "metadata": {},
   "outputs": [
    {
     "name": "stdout",
     "output_type": "stream",
     "text": [
      "Sentences are  [['As', 'an', 'institution', 'of', 'higher', 'learning,', 'Sacred', 'Heart', 'University', 'places', 'special', 'emphasis', 'on', 'academic', 'integrity,', 'which', 'is', 'a', 'commitment', 'to', 'the', 'fundamental', 'values', 'of', 'honesty,', 'trust,', 'fairness,', 'respect,', 'and', 'responsibility'], ['Only', 'when', 'these', 'values', 'are', 'widely', 'respected', 'and', 'practiced', 'by', 'all', 'members', 'of', 'the', 'University', 'students,', 'faculty,', 'administrators,', 'and', 'staff', 'can', 'the', 'University', 'maintain', 'a', 'culture', 'that', 'promotes', 'free', 'exploration', 'of', 'knowledge,', 'constructive', 'debate,', 'genuine', 'learning,', 'effective', 'research,', 'fair', 'assessment', 'of', 'student', 'progress,', 'and', 'development', 'of', 'members', 'characters'], ['These', 'aims', 'of', 'the', 'University', 'require', 'that', 'its', 'members', 'exercise', 'mutual', 'responsibilities'], ['At', 'its', 'core,', 'academic', 'integrity', 'is', 'secured', 'by', 'a', 'principled', 'commitment', 'to', 'carry', 'out', 'these', 'responsibilities,', 'not', 'by', 'rules', 'and', 'penalties'], ['Students', 'and', 'faculty', 'should', 'strive', 'to', 'create', 'an', 'academic', 'environment', 'that', 'is', 'honest,', 'fair,', 'and', 'respectful', 'of', 'all'], ['They', 'do', 'this', 'by', 'evaluating', 'others', 'work', 'fairly,', 'by', 'responding', 'to', 'others', 'ideas', 'critically', 'yet', 'courteously,', 'by', 'respecting', 'others', 'intellectual', 'and', 'physical', 'property,', 'and', 'by', 'nurturing', 'the', 'values', 'of', 'academic', 'integrity', 'in', 'all', 'contexts', 'of', 'University', 'life'], ['Appropriate', 'disciplinary', 'action', 'will', 'be', 'taken', 'for', 'violations', 'of', 'academic', 'integrity,', 'including', 'plagiarism,', 'cheating,', 'any', 'use', 'of', 'materials', 'for', 'an', 'assignment', 'or', 'exam', 'that', 'is', 'not', 'permitted', 'by', 'the', 'instructor,', 'and', 'theft', 'or', 'mutilation', 'of', 'intellectual', 'materials', 'or', 'other', 'University', 'equipment'], ['Faculty', 'will', 'assign', 'failing', 'grades', 'for', 'violations', 'of', 'the', 'University', 'policy', 'on', 'academic', 'integrity', 'and', 'students', 'may', 'immediately', 'receive', 'an', 'F', 'for', 'a', 'course', 'in', 'which', 'they', 'commit', 'a', 'violation'], ['Violations', 'of', 'academic', 'integrity', 'are', 'kept', 'on', 'file', 'second', 'violations', 'will', 'bring', 'additional', 'sanctions,', 'up', 'to', 'dismissal', 'from', 'the', 'University'], ['For', 'any', 'disciplinary', 'action,', 'the', 'University', 'affords', 'the', 'student', 'the', 'right', 'of', 'due', 'process', 'in', 'an', 'appeals', 'procedure'], ['All', 'matriculated', 'students', 'will', 'be', 'provided', 'with', 'a', 'full', 'description', 'of', 'the', 'University', 'standards', 'for', 'academic', 'integrity,', 'consequences', 'for', 'violations,', 'and', 'the', 'appeals', 'procedure.']]\n"
     ]
    }
   ],
   "source": [
    "print(\"Sentences are \", sentences)\n"
   ]
  },
  {
   "cell_type": "markdown",
   "id": "bd4e874d-625d-4113-858e-f97c64fbc1e8",
   "metadata": {},
   "source": [
    "## FUNCTION TO CALCULATE SIMILARITY"
   ]
  },
  {
   "cell_type": "markdown",
   "id": "4b51ef9d-9e84-4337-a085-39f50067a957",
   "metadata": {},
   "source": [
    "SENTENCE_SIMILARITY FUNCTION CALCULATES THE SIMILARITY BETWEEN TWO SENTENCES BASED ON THEIR WORD FREQUENCY VECTORS, UTILIZING COSINE DISTANCE AS A METRIC. THE FUNCTION FIRST NORMALIZES THE SENTENCES TO LOWERCASE, THEN BUILDS VECTORS REPRESENTING THE WORD FREQUENCY OF ALL UNIQUE WORDS IN THE SENTENCES. FINALLY, IT RETURNS A SIMILARITY SCORE BASED ON THE COSINE DISTANCE BETWEEN THE TWO VECTORS."
   ]
  },
  {
   "cell_type": "code",
   "execution_count": 21,
   "id": "0c16266e-339b-4d6f-9d2d-11c960c25a32",
   "metadata": {},
   "outputs": [],
   "source": [
    "def sentence_similarity(sent1, sent2 ):\n",
    "    sent1 = [w.lower() for w in sent1]\n",
    "    sent2 = [w.lower() for w in sent2]\n",
    "    all_words = list(set(sent1 + sent2))\n",
    "    vector1 = [0] * len(all_words)\n",
    "    vector2 = [0] * len(all_words)\n",
    "     # build the vector for the first sentence\n",
    "    for w in sent1:\n",
    "          vector1[all_words.index(w)] += 1\n",
    "     # build the vector for the second sentence\n",
    "    for w in sent2:\n",
    "          vector2[all_words.index(w)] += 1\n",
    "    return 1 - cosine_distance(vector1, vector2)\n"
   ]
  },
  {
   "cell_type": "markdown",
   "id": "c2c895f6-9ac6-4049-ac9a-4c983e30c489",
   "metadata": {},
   "source": [
    "## CREATING SIMILARITY MATRIX"
   ]
  },
  {
   "cell_type": "markdown",
   "id": "903cd37a-14fb-4b1c-8e45-9fee9929e1b7",
   "metadata": {},
   "source": [
    "SIMILARITY_MATRIX IS A NUMPY ARRAY INITIALIZED WITH ZEROS, WHERE EACH ELEMENT REPRESENTS THE SIMILARITY BETWEEN TWO SENTENCES. THE CODE ITERATES THROUGH ALL COMBINATIONS OF SENTENCES, CALCULATES THE SIMILARITY BETWEEN EACH PAIR USING THE sentence_similarity FUNCTION, AND STORES THE RESULTING SIMILARITY SCORES IN THE SIMILARITY_MATRIX. THE DIAGONAL ELEMENTS (WHERE idx1 == idx2) ARE IGNORED, AS THEY REPRESENT COMPARISONS OF A SENTENCE WITH ITSELF. THE FINAL SIMILARITY MATRIX IS PRINTED OUT."
   ]
  },
  {
   "cell_type": "code",
   "execution_count": 22,
   "id": "76a04471-2595-4295-8a10-250a2e0f4700",
   "metadata": {},
   "outputs": [
    {
     "name": "stdout",
     "output_type": "stream",
     "text": [
      "Smilarity matrix \n",
      " [[0.         0.375      0.20412415 0.22116293 0.31622777 0.25315802\n",
      "  0.30439039 0.33348648 0.26382243 0.25259074 0.3006689 ]\n",
      " [0.375      0.         0.40824829 0.17201562 0.31622777 0.36822985\n",
      "  0.32780503 0.26274693 0.22613351 0.3127314  0.33407655]\n",
      " [0.20412415 0.40824829 0.         0.12038585 0.12909944 0.15032921\n",
      "  0.22941573 0.14852213 0.18463724 0.29462783 0.21821789]\n",
      " [0.22116293 0.17201562 0.12038585 0.         0.2331262  0.35290144\n",
      "  0.16571045 0.17879963 0.13336627 0.         0.11821656]\n",
      " [0.31622777 0.31622777 0.12909944 0.2331262  0.         0.26200013\n",
      "  0.26655699 0.26843775 0.14301939 0.09128709 0.25354628]\n",
      " [0.25315802 0.36822985 0.15032921 0.35290144 0.26200013 0.\n",
      "  0.27590308 0.22327214 0.19429458 0.1860229  0.22143052]\n",
      " [0.30439039 0.32780503 0.22941573 0.16571045 0.26655699 0.27590308\n",
      "  0.         0.3180176  0.25415212 0.32444284 0.37546963]\n",
      " [0.33348648 0.26274693 0.14852213 0.17879963 0.26843775 0.22327214\n",
      "  0.3180176  0.         0.32907259 0.31506302 0.45374261]\n",
      " [0.26382243 0.22613351 0.18463724 0.13336627 0.14301939 0.19429458\n",
      "  0.25415212 0.32907259 0.         0.21759707 0.24174689]\n",
      " [0.25259074 0.3127314  0.29462783 0.         0.09128709 0.1860229\n",
      "  0.32444284 0.31506302 0.21759707 0.         0.42433421]\n",
      " [0.3006689  0.33407655 0.21821789 0.11821656 0.25354628 0.22143052\n",
      "  0.37546963 0.45374261 0.24174689 0.42433421 0.        ]]\n"
     ]
    }
   ],
   "source": [
    "similarity_matrix = np.zeros((len(sentences), len(sentences)))\n",
    " \n",
    "for idx1 in range(len(sentences)):\n",
    "        for idx2 in range(len(sentences)):\n",
    "             if idx1 == idx2: #ignore if both are same sentences\n",
    "                continue \n",
    "             similarity_matrix[idx1][idx2] = sentence_similarity(sentences[idx1], sentences[idx2])\n",
    "\n",
    "print(\"Smilarity matrix \\n\", similarity_matrix)\n"
   ]
  },
  {
   "cell_type": "markdown",
   "id": "2b1afb31-3f51-49a1-a0dd-0484a5308fc1",
   "metadata": {},
   "source": [
    "## GETTING PAGERANK SCORES"
   ]
  },
  {
   "cell_type": "code",
   "execution_count": 23,
   "id": "854390b9-f118-4b50-bb57-d4779760886a",
   "metadata": {},
   "outputs": [
    {
     "name": "stdout",
     "output_type": "stream",
     "text": [
      "scores {0: 0.10052808533762261, 1: 0.1092617813187325, 2: 0.07743541734389628, 3: 0.06555131921078501, 4: 0.08353031285994028, 5: 0.09032582020361654, 6: 0.10094508912146115, 7: 0.10059598487085707, 8: 0.08058955768995534, 9: 0.08737172856802625, 10: 0.10386490347510732}\n"
     ]
    }
   ],
   "source": [
    "# Step 3 - Rank sentences in similarity martix\n",
    "sentence_similarity_graph = nx.from_numpy_array(similarity_matrix)\n",
    "scores = nx.pagerank(sentence_similarity_graph)\n",
    "print(\"scores\", scores)\n"
   ]
  },
  {
   "cell_type": "markdown",
   "id": "d2bddee4-a72c-4622-87fb-711610a17053",
   "metadata": {},
   "source": [
    "## SORTING SENTENCE BY PAGE RANK"
   ]
  },
  {
   "cell_type": "code",
   "execution_count": 24,
   "id": "92c2000f-ab88-4006-b131-b268e70f6e0c",
   "metadata": {},
   "outputs": [
    {
     "name": "stdout",
     "output_type": "stream",
     "text": [
      "Indexes of top ranked_sentence order are \n",
      "\n",
      " [(0.1092617813187325, ['Only', 'when', 'these', 'values', 'are', 'widely', 'respected', 'and', 'practiced', 'by', 'all', 'members', 'of', 'the', 'University', 'students,', 'faculty,', 'administrators,', 'and', 'staff', 'can', 'the', 'University', 'maintain', 'a', 'culture', 'that', 'promotes', 'free', 'exploration', 'of', 'knowledge,', 'constructive', 'debate,', 'genuine', 'learning,', 'effective', 'research,', 'fair', 'assessment', 'of', 'student', 'progress,', 'and', 'development', 'of', 'members', 'characters']), (0.10386490347510732, ['All', 'matriculated', 'students', 'will', 'be', 'provided', 'with', 'a', 'full', 'description', 'of', 'the', 'University', 'standards', 'for', 'academic', 'integrity,', 'consequences', 'for', 'violations,', 'and', 'the', 'appeals', 'procedure.']), (0.10094508912146115, ['Appropriate', 'disciplinary', 'action', 'will', 'be', 'taken', 'for', 'violations', 'of', 'academic', 'integrity,', 'including', 'plagiarism,', 'cheating,', 'any', 'use', 'of', 'materials', 'for', 'an', 'assignment', 'or', 'exam', 'that', 'is', 'not', 'permitted', 'by', 'the', 'instructor,', 'and', 'theft', 'or', 'mutilation', 'of', 'intellectual', 'materials', 'or', 'other', 'University', 'equipment']), (0.10059598487085707, ['Faculty', 'will', 'assign', 'failing', 'grades', 'for', 'violations', 'of', 'the', 'University', 'policy', 'on', 'academic', 'integrity', 'and', 'students', 'may', 'immediately', 'receive', 'an', 'F', 'for', 'a', 'course', 'in', 'which', 'they', 'commit', 'a', 'violation']), (0.10052808533762261, ['As', 'an', 'institution', 'of', 'higher', 'learning,', 'Sacred', 'Heart', 'University', 'places', 'special', 'emphasis', 'on', 'academic', 'integrity,', 'which', 'is', 'a', 'commitment', 'to', 'the', 'fundamental', 'values', 'of', 'honesty,', 'trust,', 'fairness,', 'respect,', 'and', 'responsibility']), (0.09032582020361654, ['They', 'do', 'this', 'by', 'evaluating', 'others', 'work', 'fairly,', 'by', 'responding', 'to', 'others', 'ideas', 'critically', 'yet', 'courteously,', 'by', 'respecting', 'others', 'intellectual', 'and', 'physical', 'property,', 'and', 'by', 'nurturing', 'the', 'values', 'of', 'academic', 'integrity', 'in', 'all', 'contexts', 'of', 'University', 'life']), (0.08737172856802625, ['For', 'any', 'disciplinary', 'action,', 'the', 'University', 'affords', 'the', 'student', 'the', 'right', 'of', 'due', 'process', 'in', 'an', 'appeals', 'procedure']), (0.08353031285994028, ['Students', 'and', 'faculty', 'should', 'strive', 'to', 'create', 'an', 'academic', 'environment', 'that', 'is', 'honest,', 'fair,', 'and', 'respectful', 'of', 'all']), (0.08058955768995534, ['Violations', 'of', 'academic', 'integrity', 'are', 'kept', 'on', 'file', 'second', 'violations', 'will', 'bring', 'additional', 'sanctions,', 'up', 'to', 'dismissal', 'from', 'the', 'University']), (0.07743541734389628, ['These', 'aims', 'of', 'the', 'University', 'require', 'that', 'its', 'members', 'exercise', 'mutual', 'responsibilities']), (0.06555131921078501, ['At', 'its', 'core,', 'academic', 'integrity', 'is', 'secured', 'by', 'a', 'principled', 'commitment', 'to', 'carry', 'out', 'these', 'responsibilities,', 'not', 'by', 'rules', 'and', 'penalties'])]\n"
     ]
    }
   ],
   "source": [
    "# Step 4 - Sort the rank and pick top sentences\n",
    "ranked_sentence = sorted(((scores[i],s) for i,s in enumerate(sentences)), reverse=True)    \n",
    "print(\"Indexes of top ranked_sentence order are \\n\\n\", ranked_sentence)\n"
   ]
  },
  {
   "cell_type": "markdown",
   "id": "d54b740f-edf4-4db4-9616-12de1f49132a",
   "metadata": {},
   "source": [
    "## PICKING TOP \"N\" SENTENCES"
   ]
  },
  {
   "cell_type": "code",
   "execution_count": 25,
   "id": "aea5dfd4-7bf6-40fb-ba80-1dbc92c1b01c",
   "metadata": {},
   "outputs": [
    {
     "name": "stdin",
     "output_type": "stream",
     "text": [
      "How many sentences do you want in the summary?  3\n"
     ]
    }
   ],
   "source": [
    "#Step 5 - How many sentences to pick\n",
    "n = int(input(\"How many sentences do you want in the summary? \"))\n",
    "#n=2\n",
    "summarize_text = []\n",
    "for i in range(n):\n",
    "      summarize_text.append(\" \".join(ranked_sentence[i][1]))\n",
    "\n",
    "\n"
   ]
  },
  {
   "cell_type": "markdown",
   "id": "5501477e-03c4-4437-b2f3-9439a656ab3f",
   "metadata": {},
   "source": [
    "## PRINTING SUMMARY"
   ]
  },
  {
   "cell_type": "code",
   "execution_count": 26,
   "id": "c41cd715-3e97-43b5-b019-08427ad56d1a",
   "metadata": {},
   "outputs": [
    {
     "name": "stdout",
     "output_type": "stream",
     "text": [
      "Summarize Text: \n",
      " Only when these values are widely respected and practiced by all members of the University students, faculty, administrators, and staff can the University maintain a culture that promotes free exploration of knowledge, constructive debate, genuine learning, effective research, fair assessment of student progress, and development of members characters. All matriculated students will be provided with a full description of the University standards for academic integrity, consequences for violations, and the appeals procedure.. Appropriate disciplinary action will be taken for violations of academic integrity, including plagiarism, cheating, any use of materials for an assignment or exam that is not permitted by the instructor, and theft or mutilation of intellectual materials or other University equipment\n"
     ]
    }
   ],
   "source": [
    "### Step 6 - Offcourse, output the summarize text\n",
    "print(\"Summarize Text: \\n\", \". \".join(summarize_text))\n"
   ]
  }
 ],
 "metadata": {
  "kernelspec": {
   "display_name": "Python 3 (ipykernel)",
   "language": "python",
   "name": "python3"
  },
  "language_info": {
   "codemirror_mode": {
    "name": "ipython",
    "version": 3
   },
   "file_extension": ".py",
   "mimetype": "text/x-python",
   "name": "python",
   "nbconvert_exporter": "python",
   "pygments_lexer": "ipython3",
   "version": "3.12.1"
  }
 },
 "nbformat": 4,
 "nbformat_minor": 5
}
