{
 "cells": [
  {
   "cell_type": "markdown",
   "id": "d639369c-ca1c-4d14-94cc-16edd4ff44a5",
   "metadata": {},
   "source": [
    "# CLASSWORK-4"
   ]
  },
  {
   "cell_type": "markdown",
   "id": "c45a474c-4f6e-4a2a-a442-73229b2817d5",
   "metadata": {},
   "source": [
    "## SENTIMENT ANALYSIS USING BING-LIU"
   ]
  },
  {
   "cell_type": "markdown",
   "id": "b8f959b0-63eb-4f19-a304-79e57b971a1e",
   "metadata": {},
   "source": [
    "### IMPORTING DATA FROM JSON FILE"
   ]
  },
  {
   "cell_type": "code",
   "execution_count": 1,
   "id": "1cdc9065-cad7-4dac-bf8f-f86f4d35d6ad",
   "metadata": {},
   "outputs": [
    {
     "name": "stderr",
     "output_type": "stream",
     "text": [
      "C:\\Users\\laxmi\\AppData\\Local\\Temp\\ipykernel_19932\\547260362.py:1: DeprecationWarning: \n",
      "Pyarrow will become a required dependency of pandas in the next major release of pandas (pandas 3.0),\n",
      "(to allow more performant data types, such as the Arrow string type, and better interoperability with other libraries)\n",
      "but was not found to be installed on your system.\n",
      "If this would cause problems for you,\n",
      "please provide us feedback at https://github.com/pandas-dev/pandas/issues/54466\n",
      "        \n",
      "  import pandas as pd\n"
     ]
    },
    {
     "data": {
      "text/html": [
       "<div>\n",
       "<style scoped>\n",
       "    .dataframe tbody tr th:only-of-type {\n",
       "        vertical-align: middle;\n",
       "    }\n",
       "\n",
       "    .dataframe tbody tr th {\n",
       "        vertical-align: top;\n",
       "    }\n",
       "\n",
       "    .dataframe thead th {\n",
       "        text-align: right;\n",
       "    }\n",
       "</style>\n",
       "<table border=\"1\" class=\"dataframe\">\n",
       "  <thead>\n",
       "    <tr style=\"text-align: right;\">\n",
       "      <th></th>\n",
       "      <th>overall</th>\n",
       "      <th>verified</th>\n",
       "      <th>reviewTime</th>\n",
       "      <th>reviewerID</th>\n",
       "      <th>asin</th>\n",
       "      <th>style</th>\n",
       "      <th>reviewerName</th>\n",
       "      <th>reviewText</th>\n",
       "      <th>summary</th>\n",
       "      <th>unixReviewTime</th>\n",
       "      <th>vote</th>\n",
       "      <th>image</th>\n",
       "    </tr>\n",
       "  </thead>\n",
       "  <tbody>\n",
       "    <tr>\n",
       "      <th>446007</th>\n",
       "      <td>5</td>\n",
       "      <td>True</td>\n",
       "      <td>03 9, 2017</td>\n",
       "      <td>A3MHX98MIGETI8</td>\n",
       "      <td>B005H8LO0A</td>\n",
       "      <td>NaN</td>\n",
       "      <td>Susan  Hunter</td>\n",
       "      <td>Soft hair gives expression to your lines.</td>\n",
       "      <td>Brush helps you meditate.</td>\n",
       "      <td>1489017600</td>\n",
       "      <td>NaN</td>\n",
       "      <td>NaN</td>\n",
       "    </tr>\n",
       "    <tr>\n",
       "      <th>382889</th>\n",
       "      <td>5</td>\n",
       "      <td>True</td>\n",
       "      <td>10 4, 2015</td>\n",
       "      <td>A9JZQ8W86LTZH</td>\n",
       "      <td>B011MTUEZ8</td>\n",
       "      <td>NaN</td>\n",
       "      <td>P. L. Dollar</td>\n",
       "      <td>Love, love, love these ornaments!</td>\n",
       "      <td>Great ornaments at an affordable price!</td>\n",
       "      <td>1443916800</td>\n",
       "      <td>NaN</td>\n",
       "      <td>NaN</td>\n",
       "    </tr>\n",
       "    <tr>\n",
       "      <th>90283</th>\n",
       "      <td>5</td>\n",
       "      <td>True</td>\n",
       "      <td>02 3, 2016</td>\n",
       "      <td>AFDVV0SXT64XK</td>\n",
       "      <td>B000WYZSW4</td>\n",
       "      <td>{'Size:': ' 7 (4.5 mm)'}</td>\n",
       "      <td>JDFerrer23</td>\n",
       "      <td>Great needles. They are always beautiful to wo...</td>\n",
       "      <td>Awesome purchase.</td>\n",
       "      <td>1454457600</td>\n",
       "      <td>NaN</td>\n",
       "      <td>NaN</td>\n",
       "    </tr>\n",
       "    <tr>\n",
       "      <th>447262</th>\n",
       "      <td>5</td>\n",
       "      <td>True</td>\n",
       "      <td>04 2, 2014</td>\n",
       "      <td>AJ3COJV8845CM</td>\n",
       "      <td>B005P1W68S</td>\n",
       "      <td>NaN</td>\n",
       "      <td>LINDA M</td>\n",
       "      <td>This arrived just in time to use it for my Chr...</td>\n",
       "      <td>great to own</td>\n",
       "      <td>1396396800</td>\n",
       "      <td>NaN</td>\n",
       "      <td>NaN</td>\n",
       "    </tr>\n",
       "    <tr>\n",
       "      <th>238867</th>\n",
       "      <td>5</td>\n",
       "      <td>True</td>\n",
       "      <td>11 5, 2015</td>\n",
       "      <td>A2BYKIXYFBPT81</td>\n",
       "      <td>B005S2O61E</td>\n",
       "      <td>{'Number of Items:': ' 1'}</td>\n",
       "      <td>rachel</td>\n",
       "      <td>Fast shipping, great little blade...just wish ...</td>\n",
       "      <td>Great Blade, Great Price, Fast shipping</td>\n",
       "      <td>1446681600</td>\n",
       "      <td>NaN</td>\n",
       "      <td>NaN</td>\n",
       "    </tr>\n",
       "    <tr>\n",
       "      <th>144119</th>\n",
       "      <td>5</td>\n",
       "      <td>True</td>\n",
       "      <td>05 28, 2015</td>\n",
       "      <td>A22URCMX79G1XG</td>\n",
       "      <td>B001DKJFJ8</td>\n",
       "      <td>NaN</td>\n",
       "      <td>PatriciaF</td>\n",
       "      <td>gift.</td>\n",
       "      <td>Five Stars</td>\n",
       "      <td>1432771200</td>\n",
       "      <td>NaN</td>\n",
       "      <td>NaN</td>\n",
       "    </tr>\n",
       "    <tr>\n",
       "      <th>376749</th>\n",
       "      <td>5</td>\n",
       "      <td>True</td>\n",
       "      <td>05 11, 2017</td>\n",
       "      <td>ADAPJBA7EWE3H</td>\n",
       "      <td>B00XHY4FFM</td>\n",
       "      <td>{'Size:': ' 1lb', 'Color:': ' General Use Bees...</td>\n",
       "      <td>Rks</td>\n",
       "      <td>I love this beeswax.  I have another bag of be...</td>\n",
       "      <td>Quality wax</td>\n",
       "      <td>1494460800</td>\n",
       "      <td>NaN</td>\n",
       "      <td>NaN</td>\n",
       "    </tr>\n",
       "    <tr>\n",
       "      <th>215845</th>\n",
       "      <td>3</td>\n",
       "      <td>True</td>\n",
       "      <td>11 1, 2013</td>\n",
       "      <td>A25SWJOYM2SGHR</td>\n",
       "      <td>B004PK6302</td>\n",
       "      <td>NaN</td>\n",
       "      <td>Sheila</td>\n",
       "      <td>I was just learning to free motion quilt earli...</td>\n",
       "      <td>Cheap... but that's why I bought it</td>\n",
       "      <td>1383264000</td>\n",
       "      <td>4</td>\n",
       "      <td>NaN</td>\n",
       "    </tr>\n",
       "    <tr>\n",
       "      <th>137235</th>\n",
       "      <td>5</td>\n",
       "      <td>True</td>\n",
       "      <td>09 7, 2016</td>\n",
       "      <td>A392SLY34ORBBG</td>\n",
       "      <td>B001B2M658</td>\n",
       "      <td>NaN</td>\n",
       "      <td>Milagro Roman</td>\n",
       "      <td>ok</td>\n",
       "      <td>Five Stars</td>\n",
       "      <td>1473206400</td>\n",
       "      <td>NaN</td>\n",
       "      <td>NaN</td>\n",
       "    </tr>\n",
       "    <tr>\n",
       "      <th>424633</th>\n",
       "      <td>5</td>\n",
       "      <td>True</td>\n",
       "      <td>03 6, 2017</td>\n",
       "      <td>A3SUE09UYSCJ1Q</td>\n",
       "      <td>B001141FN0</td>\n",
       "      <td>{'Color:': ' Variegated'}</td>\n",
       "      <td>Country Doc</td>\n",
       "      <td>Nice quality crochet thread, soft spring color...</td>\n",
       "      <td>Good quality thread</td>\n",
       "      <td>1488758400</td>\n",
       "      <td>NaN</td>\n",
       "      <td>NaN</td>\n",
       "    </tr>\n",
       "  </tbody>\n",
       "</table>\n",
       "</div>"
      ],
      "text/plain": [
       "        overall  verified   reviewTime      reviewerID        asin  \\\n",
       "446007        5      True   03 9, 2017  A3MHX98MIGETI8  B005H8LO0A   \n",
       "382889        5      True   10 4, 2015   A9JZQ8W86LTZH  B011MTUEZ8   \n",
       "90283         5      True   02 3, 2016   AFDVV0SXT64XK  B000WYZSW4   \n",
       "447262        5      True   04 2, 2014   AJ3COJV8845CM  B005P1W68S   \n",
       "238867        5      True   11 5, 2015  A2BYKIXYFBPT81  B005S2O61E   \n",
       "144119        5      True  05 28, 2015  A22URCMX79G1XG  B001DKJFJ8   \n",
       "376749        5      True  05 11, 2017   ADAPJBA7EWE3H  B00XHY4FFM   \n",
       "215845        3      True   11 1, 2013  A25SWJOYM2SGHR  B004PK6302   \n",
       "137235        5      True   09 7, 2016  A392SLY34ORBBG  B001B2M658   \n",
       "424633        5      True   03 6, 2017  A3SUE09UYSCJ1Q  B001141FN0   \n",
       "\n",
       "                                                    style   reviewerName  \\\n",
       "446007                                                NaN  Susan  Hunter   \n",
       "382889                                                NaN   P. L. Dollar   \n",
       "90283                            {'Size:': ' 7 (4.5 mm)'}     JDFerrer23   \n",
       "447262                                                NaN        LINDA M   \n",
       "238867                         {'Number of Items:': ' 1'}         rachel   \n",
       "144119                                                NaN      PatriciaF   \n",
       "376749  {'Size:': ' 1lb', 'Color:': ' General Use Bees...            Rks   \n",
       "215845                                                NaN         Sheila   \n",
       "137235                                                NaN  Milagro Roman   \n",
       "424633                          {'Color:': ' Variegated'}    Country Doc   \n",
       "\n",
       "                                               reviewText  \\\n",
       "446007          Soft hair gives expression to your lines.   \n",
       "382889                  Love, love, love these ornaments!   \n",
       "90283   Great needles. They are always beautiful to wo...   \n",
       "447262  This arrived just in time to use it for my Chr...   \n",
       "238867  Fast shipping, great little blade...just wish ...   \n",
       "144119                                              gift.   \n",
       "376749  I love this beeswax.  I have another bag of be...   \n",
       "215845  I was just learning to free motion quilt earli...   \n",
       "137235                                                 ok   \n",
       "424633  Nice quality crochet thread, soft spring color...   \n",
       "\n",
       "                                        summary  unixReviewTime vote image  \n",
       "446007                Brush helps you meditate.      1489017600  NaN   NaN  \n",
       "382889  Great ornaments at an affordable price!      1443916800  NaN   NaN  \n",
       "90283                         Awesome purchase.      1454457600  NaN   NaN  \n",
       "447262                             great to own      1396396800  NaN   NaN  \n",
       "238867  Great Blade, Great Price, Fast shipping      1446681600  NaN   NaN  \n",
       "144119                               Five Stars      1432771200  NaN   NaN  \n",
       "376749                              Quality wax      1494460800  NaN   NaN  \n",
       "215845      Cheap... but that's why I bought it      1383264000    4   NaN  \n",
       "137235                               Five Stars      1473206400  NaN   NaN  \n",
       "424633                      Good quality thread      1488758400  NaN   NaN  "
      ]
     },
     "execution_count": 1,
     "metadata": {},
     "output_type": "execute_result"
    }
   ],
   "source": [
    "import pandas as pd \n",
    "df = pd.read_json(\"Arts_Crafts_and_Sewing_5.json\",lines=True)\n",
    "df.sample(10)\n"
   ]
  },
  {
   "cell_type": "markdown",
   "id": "ebac5d65-7e8d-4c05-8bac-bb9596b7ffad",
   "metadata": {},
   "source": [
    "### OPINION LEXICON"
   ]
  },
  {
   "cell_type": "markdown",
   "id": "74e73824-7f90-41c3-8ece-baac69459897",
   "metadata": {},
   "source": [
    "The Opinion Lexicon contains lists of positive and negative words, which are used to assign sentiment scores to text data. \n",
    "This lexicon serves as a foundational resource for sentiment analysis tasks, aiding in the identification of sentiment-bearing words within text data.\r\n",
    "\r\n",
    "\r\n"
   ]
  },
  {
   "cell_type": "code",
   "execution_count": 2,
   "id": "0f5b4592-91d3-47b3-998d-7abedb91e9bc",
   "metadata": {},
   "outputs": [
    {
     "name": "stdout",
     "output_type": "stream",
     "text": [
      "Total number of words in opinion lexicon 6789\n",
      "Examples of positive words in opinion lexicon ['a+', 'abound', 'abounds', 'abundance', 'abundant', 'accessable', 'accessible', 'acclaim', 'acclaimed', 'acclamation']\n",
      "Examples of negative words in opinion lexicon ['2-faced', '2-faces', 'abnormal', 'abolish', 'abominable', 'abominably', 'abominate', 'abomination', 'abort', 'aborted']\n"
     ]
    },
    {
     "name": "stderr",
     "output_type": "stream",
     "text": [
      "[nltk_data] Downloading package opinion_lexicon to\n",
      "[nltk_data]     C:\\Users\\laxmi\\AppData\\Roaming\\nltk_data...\n",
      "[nltk_data]   Package opinion_lexicon is already up-to-date!\n"
     ]
    }
   ],
   "source": [
    "from sklearn import preprocessing\n",
    "import nltk\n",
    "nltk.download('opinion_lexicon')\n",
    "from nltk.corpus import opinion_lexicon\n",
    "from nltk.tokenize import word_tokenize\n",
    "\n",
    "print('Total number of words in opinion lexicon', len(opinion_lexicon.words()))\n",
    "print('Examples of positive words in opinion lexicon',\n",
    "      opinion_lexicon.positive()[:10])\n",
    "print('Examples of negative words in opinion lexicon',\n",
    "      opinion_lexicon.negative()[:10])\n"
   ]
  },
  {
   "cell_type": "markdown",
   "id": "5e610b4d-66ce-4285-a0ad-b5737a8d7cfb",
   "metadata": {},
   "source": [
    "### CREATING A DICTIONARY"
   ]
  },
  {
   "cell_type": "markdown",
   "id": "fbba22ee-1fa3-41f5-92a5-515a33bddc54",
   "metadata": {},
   "source": [
    "Here we initializes a sentiment dictionary using the Opinion Lexicon from NLTK. Positive and negative words from the lexicon are assigned sentiment scores and stored in a dictionary, preparing for sentiment analysis of review text data."
   ]
  },
  {
   "cell_type": "code",
   "execution_count": 3,
   "id": "f243271d-f074-4955-b6c1-60c865c8b9df",
   "metadata": {},
   "outputs": [
    {
     "name": "stderr",
     "output_type": "stream",
     "text": [
      "[nltk_data] Downloading package punkt to\n",
      "[nltk_data]     C:\\Users\\laxmi\\AppData\\Roaming\\nltk_data...\n",
      "[nltk_data]   Package punkt is already up-to-date!\n"
     ]
    }
   ],
   "source": [
    "# Let's create a dictionary which we can use for scoring our review text\n",
    "nltk.download('punkt')\n",
    "df.rename(columns={\"reviewText\": \"text\"}, inplace=True)\n",
    "pos_score = 1\n",
    "neg_score = -1\n",
    "word_dict = {}\n",
    " \n",
    "# Adding the positive words to the dictionary\n",
    "for word in opinion_lexicon.positive():\n",
    "        word_dict[word] = pos_score\n",
    "      \n",
    "# Adding the negative words to the dictionary\n",
    "for word in opinion_lexicon.negative():\n",
    "        word_dict[word] = neg_score\n"
   ]
  },
  {
   "cell_type": "markdown",
   "id": "bfa54a07-d2ea-4652-9d2a-4a80d45e06ee",
   "metadata": {},
   "source": [
    "### BING-LIU LEXCION SCORING ALGORITHM"
   ]
  },
  {
   "cell_type": "markdown",
   "id": "5c822f96-725c-4529-ac8b-e08ac2452f8a",
   "metadata": {},
   "source": [
    "Here we calculate the sentiment by using bing-liu algorithm where the algorithm tokenizes each word into bag of words and check if they are present in dictionary ,if they are present then it is added to overall score."
   ]
  },
  {
   "cell_type": "code",
   "execution_count": null,
   "id": "1911acfd-258f-4305-bcf4-ec6c8ab33585",
   "metadata": {},
   "outputs": [],
   "source": [
    "def bing_liu_score(text):\n",
    "    sentiment_score = 0\n",
    "    bag_of_words = word_tokenize(text.lower())\n",
    "    for word in bag_of_words:\n",
    "        if word in word_dict:\n",
    "            sentiment_score += word_dict[word]\n",
    "    return sentiment_score  \n"
   ]
  },
  {
   "cell_type": "markdown",
   "id": "49a90f38-e912-44e1-9e55-9b24aff063ac",
   "metadata": {},
   "source": [
    "### FILLING NULL VALUES"
   ]
  },
  {
   "cell_type": "markdown",
   "id": "b195b885-5119-47aa-bd91-770128ab7a40",
   "metadata": {},
   "source": [
    "we fill the null or empty spaces of the dataset by 'no review'"
   ]
  },
  {
   "cell_type": "code",
   "execution_count": 9,
   "id": "12e69bd3-c097-4939-9a02-e4ecdb98b6d8",
   "metadata": {},
   "outputs": [],
   "source": [
    "\n",
    "df['text'] = df['text'].fillna('no review')\n",
    "\n",
    "df['Bing_Liu_Score'] = df['text'].apply(bing_liu_score)\n"
   ]
  },
  {
   "cell_type": "markdown",
   "id": "95e352ac-2527-4cbc-89e4-ee32165267bf",
   "metadata": {},
   "source": [
    "### Head"
   ]
  },
  {
   "cell_type": "markdown",
   "id": "9a249666-9877-4779-a1f9-dd9e80e8aaf0",
   "metadata": {},
   "source": [
    "this line of code is used to print the first 10 rows of the dataset"
   ]
  },
  {
   "cell_type": "code",
   "execution_count": 7,
   "id": "e26e6b2d-c27f-4c28-aa72-c10ac8cc08c4",
   "metadata": {},
   "outputs": [
    {
     "data": {
      "text/html": [
       "<div>\n",
       "<style scoped>\n",
       "    .dataframe tbody tr th:only-of-type {\n",
       "        vertical-align: middle;\n",
       "    }\n",
       "\n",
       "    .dataframe tbody tr th {\n",
       "        vertical-align: top;\n",
       "    }\n",
       "\n",
       "    .dataframe thead th {\n",
       "        text-align: right;\n",
       "    }\n",
       "</style>\n",
       "<table border=\"1\" class=\"dataframe\">\n",
       "  <thead>\n",
       "    <tr style=\"text-align: right;\">\n",
       "      <th></th>\n",
       "      <th>overall</th>\n",
       "      <th>text</th>\n",
       "      <th>Bing_Liu_Score</th>\n",
       "    </tr>\n",
       "  </thead>\n",
       "  <tbody>\n",
       "    <tr>\n",
       "      <th>0</th>\n",
       "      <td>4</td>\n",
       "      <td>Contains some interesting stitches.</td>\n",
       "      <td>1</td>\n",
       "    </tr>\n",
       "    <tr>\n",
       "      <th>1</th>\n",
       "      <td>5</td>\n",
       "      <td>I'm a fairly experienced knitter of the one-co...</td>\n",
       "      <td>22</td>\n",
       "    </tr>\n",
       "    <tr>\n",
       "      <th>2</th>\n",
       "      <td>4</td>\n",
       "      <td>Great book but the index is terrible. Had to w...</td>\n",
       "      <td>0</td>\n",
       "    </tr>\n",
       "    <tr>\n",
       "      <th>3</th>\n",
       "      <td>5</td>\n",
       "      <td>I purchased the Kindle edition which is incred...</td>\n",
       "      <td>4</td>\n",
       "    </tr>\n",
       "    <tr>\n",
       "      <th>4</th>\n",
       "      <td>5</td>\n",
       "      <td>Very well laid out and very easy to read.\\n\\nT...</td>\n",
       "      <td>5</td>\n",
       "    </tr>\n",
       "    <tr>\n",
       "      <th>5</th>\n",
       "      <td>5</td>\n",
       "      <td>Beginning her career as a freelance knitter, M...</td>\n",
       "      <td>15</td>\n",
       "    </tr>\n",
       "    <tr>\n",
       "      <th>6</th>\n",
       "      <td>5</td>\n",
       "      <td>This is a terrific stitch handbook (and I have...</td>\n",
       "      <td>9</td>\n",
       "    </tr>\n",
       "    <tr>\n",
       "      <th>7</th>\n",
       "      <td>4</td>\n",
       "      <td>The book needs to be coil bound. The content i...</td>\n",
       "      <td>1</td>\n",
       "    </tr>\n",
       "    <tr>\n",
       "      <th>8</th>\n",
       "      <td>5</td>\n",
       "      <td>I really am enjoying this book! I like the siz...</td>\n",
       "      <td>12</td>\n",
       "    </tr>\n",
       "    <tr>\n",
       "      <th>9</th>\n",
       "      <td>5</td>\n",
       "      <td>Just received this book and looked over it cov...</td>\n",
       "      <td>6</td>\n",
       "    </tr>\n",
       "  </tbody>\n",
       "</table>\n",
       "</div>"
      ],
      "text/plain": [
       "   overall                                               text  Bing_Liu_Score\n",
       "0        4                Contains some interesting stitches.               1\n",
       "1        5  I'm a fairly experienced knitter of the one-co...              22\n",
       "2        4  Great book but the index is terrible. Had to w...               0\n",
       "3        5  I purchased the Kindle edition which is incred...               4\n",
       "4        5  Very well laid out and very easy to read.\\n\\nT...               5\n",
       "5        5  Beginning her career as a freelance knitter, M...              15\n",
       "6        5  This is a terrific stitch handbook (and I have...               9\n",
       "7        4  The book needs to be coil bound. The content i...               1\n",
       "8        5  I really am enjoying this book! I like the siz...              12\n",
       "9        5  Just received this book and looked over it cov...               6"
      ]
     },
     "execution_count": 7,
     "metadata": {},
     "output_type": "execute_result"
    }
   ],
   "source": [
    "df[['overall',\"text\", 'Bing_Liu_Score']].head(10)\n"
   ]
  },
  {
   "cell_type": "markdown",
   "id": "5ee74789-f452-4cd3-8585-7e649a3dd459",
   "metadata": {},
   "source": [
    "### GROUPBY"
   ]
  },
  {
   "cell_type": "markdown",
   "id": "e10f423a-86ac-4083-8d25-84670efa18d0",
   "metadata": {},
   "source": [
    "This code provides an average sentiment score for reviews categorized by their overall rating."
   ]
  },
  {
   "cell_type": "code",
   "execution_count": 8,
   "id": "3a9b16e4-5f14-4611-a0d7-d3ea0d8f874b",
   "metadata": {},
   "outputs": [
    {
     "data": {
      "text/html": [
       "<div>\n",
       "<style scoped>\n",
       "    .dataframe tbody tr th:only-of-type {\n",
       "        vertical-align: middle;\n",
       "    }\n",
       "\n",
       "    .dataframe tbody tr th {\n",
       "        vertical-align: top;\n",
       "    }\n",
       "\n",
       "    .dataframe thead th {\n",
       "        text-align: right;\n",
       "    }\n",
       "</style>\n",
       "<table border=\"1\" class=\"dataframe\">\n",
       "  <thead>\n",
       "    <tr style=\"text-align: right;\">\n",
       "      <th></th>\n",
       "      <th>Bing_Liu_Score</th>\n",
       "    </tr>\n",
       "    <tr>\n",
       "      <th>overall</th>\n",
       "      <th></th>\n",
       "    </tr>\n",
       "  </thead>\n",
       "  <tbody>\n",
       "    <tr>\n",
       "      <th>1</th>\n",
       "      <td>-0.255049</td>\n",
       "    </tr>\n",
       "    <tr>\n",
       "      <th>2</th>\n",
       "      <td>0.566098</td>\n",
       "    </tr>\n",
       "    <tr>\n",
       "      <th>3</th>\n",
       "      <td>1.158796</td>\n",
       "    </tr>\n",
       "    <tr>\n",
       "      <th>4</th>\n",
       "      <td>2.028146</td>\n",
       "    </tr>\n",
       "    <tr>\n",
       "      <th>5</th>\n",
       "      <td>2.130005</td>\n",
       "    </tr>\n",
       "  </tbody>\n",
       "</table>\n",
       "</div>"
      ],
      "text/plain": [
       "         Bing_Liu_Score\n",
       "overall                \n",
       "1             -0.255049\n",
       "2              0.566098\n",
       "3              1.158796\n",
       "4              2.028146\n",
       "5              2.130005"
      ]
     },
     "execution_count": 8,
     "metadata": {},
     "output_type": "execute_result"
    }
   ],
   "source": [
    "df.groupby('overall').agg({'Bing_Liu_Score':'mean'})\n"
   ]
  }
 ],
 "metadata": {
  "kernelspec": {
   "display_name": "Python 3 (ipykernel)",
   "language": "python",
   "name": "python3"
  },
  "language_info": {
   "codemirror_mode": {
    "name": "ipython",
    "version": 3
   },
   "file_extension": ".py",
   "mimetype": "text/x-python",
   "name": "python",
   "nbconvert_exporter": "python",
   "pygments_lexer": "ipython3",
   "version": "3.12.1"
  }
 },
 "nbformat": 4,
 "nbformat_minor": 5
}
